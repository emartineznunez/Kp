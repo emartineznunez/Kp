{
  "nbformat": 4,
  "nbformat_minor": 0,
  "metadata": {
    "colab": {
      "provenance": []
    },
    "kernelspec": {
      "name": "python3",
      "display_name": "Python 3"
    },
    "language_info": {
      "name": "python"
    }
  },
  "cells": [
    {
      "cell_type": "markdown",
      "source": [
        "# **$K_p$**"
      ],
      "metadata": {
        "id": "0RhbqVUOJl0M"
      }
    },
    {
      "cell_type": "markdown",
      "source": [
        "# Installing third-party packages"
      ],
      "metadata": {
        "id": "9LmhQ0GeMi9z"
      }
    },
    {
      "cell_type": "code",
      "source": [
        "#@title Installation of packages\n",
        "%%capture\n",
        "!pip install --prefer-binary pyscf\n",
        "!pip install pyscf[geomopt]\n",
        "! pip install ase chemicals pubchempy\n",
        "! pip install --upgrade x3dase\n",
        "! sudo apt install cm-super dvipng texlive-latex-extra texlive-latex-recommended"
      ],
      "metadata": {
        "id": "WAvYvC7UV0Qd"
      },
      "execution_count": 120,
      "outputs": []
    },
    {
      "cell_type": "code",
      "source": [
        "#@title Selecting the substance (by name) and retrieving the CID from PubChem https://pubchem.ncbi.nlm.nih.gov/\n",
        "import pubchempy as pcp\n",
        "\n",
        "molA = input('Name of your substance: ')\n",
        "queryA0 = pcp.get_compounds(molA,'name')\n",
        "\n",
        "\n",
        "queryA = pcp.get_compounds(molA,'name',record_type='3d')\n",
        "\n",
        "if(len(queryA)==0): queryA = queryA0\n",
        "\n",
        "\n",
        "cid_A = pcp.get_cids(molA)\n",
        "if len(cid_A) == 0: print('Molecule not found')\n",
        "else: print('CID of molecule: ',cid_A)\n",
        "\n",
        "m = queryA[0]\n",
        "nat_A = len(m.atoms)\n",
        "f = open('dumpA.xyz','w')\n",
        "if nat_A > 1:\n",
        "  f.write(str(nat_A)+'\\n\\n')\n",
        "  for i,a in enumerate(m.atoms):\n",
        "    if a.z is None: a.z = 0.0\n",
        "    f.write(m.elements[i]+' '+str(a.x)+' '+str(a.y)+' '+str(a.z)+'\\n')\n",
        "else:                            f.write(m.elements[0]+' 0. 0. 0.\\n')\n",
        "f.close()"
      ],
      "metadata": {
        "id": "TPB2rgNTWGmC",
        "outputId": "452494be-2240-452d-a094-b8e6392cb336",
        "colab": {
          "base_uri": "https://localhost:8080/"
        }
      },
      "execution_count": 121,
      "outputs": [
        {
          "output_type": "stream",
          "name": "stdout",
          "text": [
            "Name of your substance: n2o4\n",
            "CID of molecule:  [25352]\n"
          ]
        }
      ]
    },
    {
      "cell_type": "code",
      "source": [
        "from pyscf import gto, scf\n",
        "from pyscf.hessian import thermo\n",
        "from pyscf.geomopt.geometric_solver import optimize\n",
        "\n",
        "#number_of_unpaired_elecs = 1\n",
        "spin = 0\n",
        "mol = gto.M(\n",
        "    atom = \"dumpA.xyz\",\n",
        "    spin=spin,\n",
        "    basis='3-21g')\n",
        "\n",
        "#mol.spin = mol.nelec[0]-mol.nelec[1]\n",
        "\n",
        "if spin == 0:\n",
        "  mf = mol.RHF()\n",
        "else:\n",
        "  mf = mol.UHF()\n",
        "\n",
        "# geometric\n",
        "mol_eq = optimize(mf, maxsteps=100)\n",
        "print(mol_eq.atom_coords())\n",
        "\n",
        "if spin == 0:\n",
        "  mf = mol_eq.RHF().run()\n",
        "else:\n",
        "  mf = mol_eq.UHF().run()\n",
        "\n",
        "hessian = mf.Hessian().kernel()\n",
        "\n",
        "freq_info = thermo.harmonic_analysis(mf.mol, hessian)\n",
        "thermo_info = thermo.thermo(mf, freq_info['freq_au'], 298.15, 101325)\n",
        "mass = mol.atom_mass_list(isotope_avg=True)\n",
        "rot_info = thermo.rotation_const(mass,mol_eq.atom_coords())\n",
        "symmetry_n = thermo.rotational_symmetry_number(mol_eq)\n",
        "\n",
        "print(freq_info['freq_wavenumber'])\n",
        "print(thermo_info)\n",
        "print(rot_info)\n",
        "print(symmetry_n)\n",
        "\n"
      ],
      "metadata": {
        "id": "d0qXYOgvKDX7",
        "outputId": "ae7f7454-8b1f-4eb3-b42a-3ad7fa3ff0e1",
        "colab": {
          "base_uri": "https://localhost:8080/"
        }
      },
      "execution_count": 128,
      "outputs": [
        {
          "output_type": "stream",
          "name": "stderr",
          "text": [
            "geometric-optimize called with the following command line:\n",
            "/usr/local/lib/python3.10/dist-packages/colab_kernel_launcher.py -f /root/.local/share/jupyter/runtime/kernel-0a736671-b40b-4741-bd27-64a285b548a1.json\n",
            "\n",
            "                                        \u001b[91m())))))))))))))))/\u001b[0m                     \n",
            "                                    \u001b[91m())))))))))))))))))))))))),\u001b[0m                \n",
            "                                \u001b[91m*)))))))))))))))))))))))))))))))))\u001b[0m             \n",
            "                        \u001b[94m#,\u001b[0m    \u001b[91m()))))))))/\u001b[0m                \u001b[91m.)))))))))),\u001b[0m          \n",
            "                      \u001b[94m#%%%%,\u001b[0m  \u001b[91m())))))\u001b[0m                        \u001b[91m.))))))))*\u001b[0m        \n",
            "                      \u001b[94m*%%%%%%,\u001b[0m  \u001b[91m))\u001b[0m              \u001b[93m..\u001b[0m              \u001b[91m,))))))).\u001b[0m      \n",
            "                        \u001b[94m*%%%%%%,\u001b[0m         \u001b[93m***************/.\u001b[0m        \u001b[91m.)))))))\u001b[0m     \n",
            "                \u001b[94m#%%/\u001b[0m      \u001b[94m(%%%%%%,\u001b[0m    \u001b[93m/*********************.\u001b[0m       \u001b[91m)))))))\u001b[0m    \n",
            "              \u001b[94m.%%%%%%#\u001b[0m      \u001b[94m*%%%%%%,\u001b[0m  \u001b[93m*******/,\u001b[0m     \u001b[93m**********,\u001b[0m      \u001b[91m.))))))\u001b[0m   \n",
            "                \u001b[94m.%%%%%%/\u001b[0m      \u001b[94m*%%%%%%,\u001b[0m  \u001b[93m**\u001b[0m              \u001b[93m********\u001b[0m      \u001b[91m.))))))\u001b[0m  \n",
            "          \u001b[94m##\u001b[0m      \u001b[94m.%%%%%%/\u001b[0m      \u001b[94m(%%%%%%,\u001b[0m                  \u001b[93m,******\u001b[0m      \u001b[91m/)))))\u001b[0m  \n",
            "        \u001b[94m%%%%%%\u001b[0m      \u001b[94m.%%%%%%#\u001b[0m      \u001b[94m*%%%%%%,\u001b[0m    \u001b[92m,/////.\u001b[0m       \u001b[93m******\u001b[0m      \u001b[91m))))))\u001b[0m \n",
            "      \u001b[94m#%\u001b[0m      \u001b[94m%%\u001b[0m      \u001b[94m.%%%%%%/\u001b[0m      \u001b[94m*%%%%%%,\u001b[0m  \u001b[92m////////,\u001b[0m      \u001b[93m*****/\u001b[0m     \u001b[91m,)))))\u001b[0m \n",
            "    \u001b[94m#%%\u001b[0m  \u001b[94m%%%\u001b[0m  \u001b[94m%%%#\u001b[0m      \u001b[94m.%%%%%%/\u001b[0m      \u001b[94m(%%%%%%,\u001b[0m  \u001b[92m///////.\u001b[0m     \u001b[93m/*****\u001b[0m      \u001b[91m))))).\u001b[0m\n",
            "  \u001b[94m#%%%%.\u001b[0m      \u001b[94m%%%%%#\u001b[0m      \u001b[94m/%%%%%%*\u001b[0m      \u001b[94m#%%%%%%\u001b[0m   \u001b[92m/////)\u001b[0m     \u001b[93m******\u001b[0m      \u001b[91m))))),\u001b[0m\n",
            "    \u001b[94m#%%%%##%\u001b[0m  \u001b[94m%%%#\u001b[0m      \u001b[94m.%%%%%%/\u001b[0m      \u001b[94m(%%%%%%,\u001b[0m  \u001b[92m///////.\u001b[0m     \u001b[93m/*****\u001b[0m      \u001b[91m))))).\u001b[0m\n",
            "      \u001b[94m##\u001b[0m     \u001b[94m%%%\u001b[0m      \u001b[94m.%%%%%%/\u001b[0m      \u001b[94m*%%%%%%,\u001b[0m  \u001b[92m////////.\u001b[0m      \u001b[93m*****/\u001b[0m     \u001b[91m,)))))\u001b[0m \n",
            "        \u001b[94m#%%%%#\u001b[0m      \u001b[94m/%%%%%%/\u001b[0m      \u001b[94m(%%%%%%\u001b[0m      \u001b[92m/)/)//\u001b[0m       \u001b[93m******\u001b[0m      \u001b[91m))))))\u001b[0m \n",
            "          \u001b[94m##\u001b[0m      \u001b[94m.%%%%%%/\u001b[0m      \u001b[94m(%%%%%%,\u001b[0m                  \u001b[93m*******\u001b[0m      \u001b[91m))))))\u001b[0m  \n",
            "                \u001b[94m.%%%%%%/\u001b[0m      \u001b[94m*%%%%%%,\u001b[0m  \u001b[93m**.\u001b[0m             \u001b[93m/*******\u001b[0m      \u001b[91m.))))))\u001b[0m  \n",
            "              \u001b[94m*%%%%%%/\u001b[0m      \u001b[94m(%%%%%%\u001b[0m   \u001b[93m********/*..,*/*********\u001b[0m       \u001b[91m*))))))\u001b[0m   \n",
            "                \u001b[94m#%%/\u001b[0m      \u001b[94m(%%%%%%,\u001b[0m    \u001b[93m*********************/\u001b[0m        \u001b[91m)))))))\u001b[0m    \n",
            "                        \u001b[94m*%%%%%%,\u001b[0m         \u001b[93m,**************/\u001b[0m         \u001b[91m,))))))/\u001b[0m     \n",
            "                      \u001b[94m(%%%%%%\u001b[0m   \u001b[91m()\u001b[0m                              \u001b[91m))))))))\u001b[0m       \n",
            "                      \u001b[94m#%%%%,\u001b[0m  \u001b[91m())))))\u001b[0m                        \u001b[91m,)))))))),\u001b[0m        \n",
            "                        \u001b[94m#,\u001b[0m    \u001b[91m())))))))))\u001b[0m                \u001b[91m,)))))))))).\u001b[0m          \n",
            "                                 \u001b[91m()))))))))))))))))))))))))))))))/\u001b[0m             \n",
            "                                    \u001b[91m())))))))))))))))))))))))).\u001b[0m                \n",
            "                                         \u001b[91m())))))))))))))),\u001b[0m                     \n",
            "\n",
            "-=# \u001b[1;94m geomeTRIC started. Version: 1.0.2 \u001b[0m #=-\n",
            "Current date and time: 2024-05-25 12:02:09\n",
            "Custom engine selected.\n",
            "Bonds will be generated from interatomic distances less than 1.20 times sum of covalent radii\n",
            "18 internal coordinates being used (instead of 18 Cartesians)\n",
            "Internal coordinate system (atoms numbered from 1):\n",
            "Distance 1-5\n",
            "Distance 2-6\n",
            "Distance 3-5\n",
            "Distance 4-6\n",
            "Distance 5-6\n",
            "Angle 1-5-6\n",
            "Angle 3-5-6\n",
            "Angle 2-6-5\n",
            "Angle 4-6-5\n",
            "Out-of-Plane 5-1-3-6\n",
            "Out-of-Plane 6-2-4-5\n",
            "Dihedral 1-5-6-2\n",
            "Dihedral 1-5-6-4\n",
            "Dihedral 3-5-6-2\n",
            "Dihedral 3-5-6-4\n",
            "Translation-X 1-6\n",
            "Translation-Y 1-6\n",
            "Translation-Z 1-6\n",
            "Rotation-A 1-6\n",
            "Rotation-B 1-6\n",
            "Rotation-C 1-6\n",
            "<class 'geometric.internal.Distance'> : 5\n",
            "<class 'geometric.internal.Angle'> : 4\n",
            "<class 'geometric.internal.OutOfPlane'> : 2\n",
            "<class 'geometric.internal.Dihedral'> : 4\n",
            "<class 'geometric.internal.TranslationX'> : 1\n",
            "<class 'geometric.internal.TranslationY'> : 1\n",
            "<class 'geometric.internal.TranslationZ'> : 1\n",
            "<class 'geometric.internal.RotationA'> : 1\n",
            "<class 'geometric.internal.RotationB'> : 1\n",
            "<class 'geometric.internal.RotationC'> : 1\n",
            "> ===== Optimization Info: ====\n",
            "> Job type: Energy minimization\n",
            "> Maximum number of optimization cycles: 300\n",
            "> Initial / maximum trust radius (Angstrom): 0.100 / 0.300\n",
            "> Convergence Criteria:\n",
            "> Will converge when all 5 criteria are reached:\n",
            ">  |Delta-E| < 1.00e-06\n",
            ">  RMS-Grad  < 3.00e-04\n",
            ">  Max-Grad  < 4.50e-04\n",
            ">  RMS-Disp  < 1.20e-03\n",
            ">  Max-Disp  < 1.80e-03\n",
            "> === End Optimization Info ===\n"
          ]
        },
        {
          "output_type": "stream",
          "name": "stdout",
          "text": [
            "\n",
            "Geometry optimization cycle 1\n",
            "Cartesian coordinates (Angstrom)\n",
            " Atom        New coordinates             dX        dY        dZ\n",
            "   O  -1.308500   1.103100   0.000500    0.000000  0.000000  0.000000\n",
            "   O   1.308400   1.103100  -0.000500   -0.000000  0.000000  0.000000\n",
            "   O  -1.308500  -1.103200  -0.000700    0.000000  0.000000  0.000000\n",
            "   O   1.308500  -1.103100   0.000700    0.000000  0.000000  0.000000\n",
            "   N  -0.749000   0.000000   0.000300    0.000000  0.000000 -0.000000\n",
            "   N   0.749000   0.000000  -0.000300    0.000000  0.000000  0.000000\n",
            "converged SCF energy = -405.645386365123\n",
            "--------------- RHF_Scanner gradients ---------------\n",
            "         x                y                z\n",
            "0 O    -0.0304074797     0.0115218416    -0.0000529795\n",
            "1 O     0.0303769000     0.0114700355     0.0000530134\n",
            "2 O    -0.0304298940    -0.0115774801    -0.0000765368\n",
            "3 O     0.0303989717    -0.0114966875     0.0000764900\n",
            "4 N     0.0847451039     0.0000634916     0.0001842320\n",
            "5 N    -0.0846836019     0.0000187989    -0.0001842191\n",
            "----------------------------------------------\n",
            "cycle 1: E = -405.645386365  dE = -405.645  norm(grad) = 0.136313\n"
          ]
        },
        {
          "output_type": "stream",
          "name": "stderr",
          "text": [
            "Step    0 : Gradient = 5.565e-02/8.475e-02 (rms/max) Energy = -405.6453863651\n",
            "Hessian Eigenvalues: 2.30000e-02 3.04802e-02 3.04809e-02 ... 8.82791e-01 8.82793e-01 8.82973e-01\n"
          ]
        },
        {
          "output_type": "stream",
          "name": "stdout",
          "text": [
            "\n",
            "Geometry optimization cycle 2\n",
            "Cartesian coordinates (Angstrom)\n",
            " Atom        New coordinates             dX        dY        dZ\n",
            "   O  -1.196277   1.145311   0.000548    0.112223  0.042211  0.000048\n",
            "   O   1.196182   1.145341  -0.000548   -0.112218  0.042241 -0.000048\n",
            "   O  -1.196253  -1.145403  -0.000672    0.112247 -0.042203  0.000028\n",
            "   O   1.196254  -1.145340   0.000672   -0.112246 -0.042240 -0.000028\n",
            "   N  -0.760290  -0.000010   0.000202   -0.011290 -0.000010 -0.000098\n",
            "   N   0.760284   0.000001  -0.000202    0.011284  0.000001  0.000098\n",
            "converged SCF energy = -405.648124765668\n",
            "--------------- RHF_Scanner gradients ---------------\n",
            "         x                y                z\n",
            "0 O     0.0160699340     0.0276711634    -0.0000206736\n",
            "1 O    -0.0160925436     0.0276517216     0.0000206815\n",
            "2 O     0.0160561919    -0.0277088454    -0.0000562260\n",
            "3 O    -0.0160755333    -0.0276731500     0.0000562019\n",
            "4 N     0.0290291633     0.0000442554     0.0001157927\n",
            "5 N    -0.0289872124     0.0000148550    -0.0001157765\n",
            "----------------------------------------------\n",
            "cycle 2: E = -405.648124766  dE = -0.0027384  norm(grad) = 0.0760284\n"
          ]
        },
        {
          "output_type": "stream",
          "name": "stderr",
          "text": [
            "Step    1 : Displace = \u001b[0m9.813e-02\u001b[0m/\u001b[0m1.199e-01\u001b[0m (rms/max) Trust = 1.000e-01 (=) Grad = \u001b[0m3.104e-02\u001b[0m/\u001b[0m3.202e-02\u001b[0m (rms/max) E (change) = -405.6481247657 (\u001b[0m-2.738e-03\u001b[0m) Quality = \u001b[0m0.152\u001b[0m\n",
            "Hessian Eigenvalues: 2.30000e-02 3.04802e-02 3.04809e-02 ... 8.82792e-01 8.82918e-01 1.18974e+00\n"
          ]
        },
        {
          "output_type": "stream",
          "name": "stdout",
          "text": [
            "\n",
            "Geometry optimization cycle 3\n",
            "Cartesian coordinates (Angstrom)\n",
            " Atom        New coordinates             dX        dY        dZ\n",
            "   O  -1.248836   1.122387   0.000537   -0.052559 -0.022924 -0.000011\n",
            "   O   1.248756   1.122431  -0.000537    0.052574 -0.022910  0.000011\n",
            "   O  -1.248802  -1.122478  -0.000647   -0.052549  0.022925  0.000026\n",
            "   O   1.248807  -1.122423   0.000647    0.052553  0.022917 -0.000026\n",
            "   N  -0.778512  -0.000019   0.000170   -0.018221 -0.000008 -0.000032\n",
            "   N   0.778486   0.000001  -0.000170    0.018202  0.000000  0.000032\n",
            "converged SCF energy = -405.656768927395\n",
            "--------------- RHF_Scanner gradients ---------------\n",
            "         x                y                z\n",
            "0 O     0.0002682880     0.0131051616    -0.0000205701\n",
            "1 O    -0.0002734884     0.0131037812     0.0000205700\n",
            "2 O     0.0002595911    -0.0131354371    -0.0000463266\n",
            "3 O    -0.0002663180    -0.0131192251     0.0000463153\n",
            "4 N     0.0279564748     0.0000332799     0.0001012196\n",
            "5 N    -0.0279445475     0.0000124395    -0.0001012082\n",
            "----------------------------------------------\n",
            "cycle 3: E = -405.656768927  dE = -0.00864416  norm(grad) = 0.0474435\n"
          ]
        },
        {
          "output_type": "stream",
          "name": "stderr",
          "text": [
            "Step    2 : Displace = \u001b[0m4.798e-02\u001b[0m/\u001b[0m5.735e-02\u001b[0m (rms/max) Trust = 4.906e-02 (\u001b[91m-\u001b[0m) Grad = \u001b[0m1.937e-02\u001b[0m/\u001b[0m2.796e-02\u001b[0m (rms/max) E (change) = -405.6567689274 (\u001b[0m-8.644e-03\u001b[0m) Quality = \u001b[0m1.042\u001b[0m\n",
            "Hessian Eigenvalues: 2.30000e-02 3.04802e-02 3.04809e-02 ... 8.82792e-01 8.82918e-01 1.20255e+00\n"
          ]
        },
        {
          "output_type": "stream",
          "name": "stdout",
          "text": [
            "\n",
            "Geometry optimization cycle 4\n",
            "Cartesian coordinates (Angstrom)\n",
            " Atom        New coordinates             dX        dY        dZ\n",
            "   O  -1.272494   1.110235   0.000446   -0.023658 -0.012152 -0.000090\n",
            "   O   1.272425   1.110294  -0.000446    0.023669 -0.012137  0.000091\n",
            "   O  -1.272482  -1.110313  -0.000346   -0.023681  0.012165  0.000300\n",
            "   O   1.272488  -1.110273   0.000346    0.023681  0.012150 -0.000300\n",
            "   N  -0.805869  -0.000037  -0.000192   -0.027357 -0.000018 -0.000362\n",
            "   N   0.805833  -0.000006   0.000192    0.027347 -0.000007  0.000362\n",
            "converged SCF energy = -405.659206936727\n",
            "--------------- RHF_Scanner gradients ---------------\n",
            "         x                y                z\n",
            "0 O     0.0005435591    -0.0009940286     0.0000400836\n",
            "1 O    -0.0005375148    -0.0009783828    -0.0000400876\n",
            "2 O     0.0005404640     0.0009973159     0.0000308194\n",
            "3 O    -0.0005371710     0.0009856505    -0.0000308135\n",
            "4 N     0.0073018980    -0.0000038736    -0.0001103658\n",
            "5 N    -0.0073112353    -0.0000066815     0.0001103639\n",
            "----------------------------------------------\n",
            "cycle 4: E = -405.659206937  dE = -0.00243801  norm(grad) = 0.0105772\n"
          ]
        },
        {
          "output_type": "stream",
          "name": "stderr",
          "text": [
            "Step    3 : Displace = \u001b[0m2.686e-02\u001b[0m/\u001b[0m2.736e-02\u001b[0m (rms/max) Trust = 6.939e-02 (\u001b[92m+\u001b[0m) Grad = \u001b[0m4.318e-03\u001b[0m/\u001b[0m7.312e-03\u001b[0m (rms/max) E (change) = -405.6592069367 (\u001b[0m-2.438e-03\u001b[0m) Quality = \u001b[0m1.177\u001b[0m\n",
            "Hessian Eigenvalues: 2.29999e-02 3.04805e-02 3.04839e-02 ... 8.82792e-01 8.82918e-01 1.21246e+00\n"
          ]
        },
        {
          "output_type": "stream",
          "name": "stdout",
          "text": [
            "\n",
            "Geometry optimization cycle 5\n",
            "Cartesian coordinates (Angstrom)\n",
            " Atom        New coordinates             dX        dY        dZ\n",
            "   O  -1.279622   1.110903   0.000144   -0.007128  0.000668 -0.000302\n",
            "   O   1.279554   1.110947  -0.000144    0.007129  0.000652  0.000302\n",
            "   O  -1.279566  -1.110983  -0.000314   -0.007083 -0.000670  0.000032\n",
            "   O   1.279576  -1.110936   0.000314    0.007088 -0.000662 -0.000032\n",
            "   N  -0.816747  -0.000030   0.000286   -0.010878  0.000007  0.000478\n",
            "   N   0.816705  -0.000001  -0.000286    0.010872  0.000005 -0.000478\n",
            "converged SCF energy = -405.659398608318\n",
            "--------------- RHF_Scanner gradients ---------------\n",
            "         x                y                z\n",
            "0 O     0.0003842495    -0.0006857660    -0.0000505122\n",
            "1 O    -0.0003797357    -0.0006846329     0.0000505037\n",
            "2 O     0.0003872438     0.0006874921    -0.0000561101\n",
            "3 O    -0.0003827345     0.0006858970     0.0000561023\n",
            "4 N     0.0006728549    -0.0000018002     0.0001671920\n",
            "5 N    -0.0006818781    -0.0000011900    -0.0001671758\n",
            "----------------------------------------------\n",
            "cycle 5: E = -405.659398608  dE = -0.000191672  norm(grad) = 0.00185887\n"
          ]
        },
        {
          "output_type": "stream",
          "name": "stderr",
          "text": [
            "Step    4 : Displace = \u001b[0m8.573e-03\u001b[0m/\u001b[0m1.089e-02\u001b[0m (rms/max) Trust = 9.813e-02 (\u001b[92m+\u001b[0m) Grad = \u001b[0m7.589e-04\u001b[0m/\u001b[0m7.910e-04\u001b[0m (rms/max) E (change) = -405.6593986083 (\u001b[0m-1.917e-04\u001b[0m) Quality = \u001b[0m1.146\u001b[0m\n",
            "Hessian Eigenvalues: 2.29993e-02 3.04805e-02 3.05569e-02 ... 8.82792e-01 8.82918e-01 1.20825e+00\n"
          ]
        },
        {
          "output_type": "stream",
          "name": "stdout",
          "text": [
            "\n",
            "Geometry optimization cycle 6\n",
            "Cartesian coordinates (Angstrom)\n",
            " Atom        New coordinates             dX        dY        dZ\n",
            "   O  -1.281320   1.111385   0.000245   -0.001698  0.000482  0.000100\n",
            "   O   1.281237   1.111444  -0.000245    0.001683  0.000498 -0.000100\n",
            "   O  -1.281289  -1.111461  -0.000022   -0.001724 -0.000479  0.000292\n",
            "   O   1.281285  -1.111431   0.000022    0.001709 -0.000495 -0.000292\n",
            "   N  -0.818697  -0.000033  -0.000415   -0.001950 -0.000003 -0.000701\n",
            "   N   0.818684  -0.000004   0.000415    0.001979 -0.000003  0.000701\n",
            "converged SCF energy = -405.659404993319\n",
            "--------------- RHF_Scanner gradients ---------------\n",
            "         x                y                z\n",
            "0 O     0.0000453876    -0.0000273211     0.0000773787\n",
            "1 O    -0.0000530803    -0.0000188952    -0.0000773731\n",
            "2 O     0.0000452936     0.0000302830     0.0000739745\n",
            "3 O    -0.0000528060     0.0000213818    -0.0000739670\n",
            "4 N    -0.0000213071    -0.0000029696    -0.0002381608\n",
            "5 N     0.0000365123    -0.0000024790     0.0002381478\n",
            "----------------------------------------------\n",
            "cycle 6: E = -405.659404993  dE = -6.385e-06  norm(grad) = 0.00038775\n"
          ]
        },
        {
          "output_type": "stream",
          "name": "stderr",
          "text": [
            "Step    5 : Displace = \u001b[0m1.891e-03\u001b[0m/\u001b[0m2.095e-03\u001b[0m (rms/max) Trust = 1.388e-01 (\u001b[92m+\u001b[0m) Grad = \u001b[92m1.583e-04\u001b[0m/\u001b[92m2.409e-04\u001b[0m (rms/max) E (change) = -405.6594049933 (\u001b[0m-6.385e-06\u001b[0m) Quality = \u001b[0m0.980\u001b[0m\n",
            "Hessian Eigenvalues: 2.29939e-02 3.04805e-02 3.39739e-02 ... 8.82792e-01 8.82920e-01 1.19867e+00\n"
          ]
        },
        {
          "output_type": "stream",
          "name": "stdout",
          "text": [
            "\n",
            "Geometry optimization cycle 7\n",
            "Cartesian coordinates (Angstrom)\n",
            " Atom        New coordinates             dX        dY        dZ\n",
            "   O  -1.281539   1.111436  -0.000017   -0.000219  0.000050 -0.000261\n",
            "   O   1.281489   1.111450   0.000017    0.000252  0.000006  0.000261\n",
            "   O  -1.281499  -1.111514  -0.000184   -0.000210 -0.000052 -0.000162\n",
            "   O   1.281528  -1.111439   0.000184    0.000243 -0.000008  0.000162\n",
            "   N  -0.818902  -0.000031   0.000376   -0.000204  0.000002  0.000791\n",
            "   N   0.818823  -0.000002  -0.000376    0.000139  0.000002 -0.000791\n",
            "converged SCF energy = -405.65940503654\n",
            "--------------- RHF_Scanner gradients ---------------\n",
            "         x                y                z\n",
            "0 O    -0.0000064427     0.0000523359    -0.0000676417\n",
            "1 O     0.0000230028     0.0000336026     0.0000676229\n",
            "2 O    -0.0000060884    -0.0000517274    -0.0000697221\n",
            "3 O     0.0000227548    -0.0000332242     0.0000697006\n",
            "4 N    -0.0000603373    -0.0000006055     0.0002171922\n",
            "5 N     0.0000271108    -0.0000003813    -0.0002171518\n",
            "----------------------------------------------\n",
            "cycle 7: E = -405.659405037  dE = -4.32212e-08  norm(grad) = 0.000355449\n"
          ]
        },
        {
          "output_type": "stream",
          "name": "stderr",
          "text": [
            "Step    6 : Displace = \u001b[92m5.348e-04\u001b[0m/\u001b[92m7.960e-04\u001b[0m (rms/max) Trust = 1.963e-01 (\u001b[92m+\u001b[0m) Grad = \u001b[92m1.451e-04\u001b[0m/\u001b[92m2.254e-04\u001b[0m (rms/max) E (change) = -405.6594050365 (\u001b[92m-4.322e-08\u001b[0m) Quality = \u001b[0m0.095\u001b[0m\n",
            "Hessian Eigenvalues: 2.29939e-02 3.04805e-02 3.39739e-02 ... 8.82792e-01 8.82920e-01 1.19867e+00\n",
            "Converged! =D\n",
            "\n",
            "    #==========================================================================#\n",
            "    #| If this code has benefited your research, please support us by citing: |#\n",
            "    #|                                                                        |#\n",
            "    #| Wang, L.-P.; Song, C.C. (2016) \"Geometry optimization made simple with |#\n",
            "    #| translation and rotation coordinates\", J. Chem, Phys. 144, 214108.     |#\n",
            "    #| http://dx.doi.org/10.1063/1.4952956                                    |#\n",
            "    #==========================================================================#\n",
            "    Time elapsed since start of run_optimizer: 9.462 seconds\n"
          ]
        },
        {
          "output_type": "stream",
          "name": "stdout",
          "text": [
            "[[-2.42175781e+00  2.10030902e+00 -3.17002738e-05]\n",
            " [ 2.42166313e+00  2.10033704e+00  3.15590497e-05]\n",
            " [-2.42168297e+00 -2.10045665e+00 -3.47563219e-04]\n",
            " [ 2.42173657e+00 -2.10031440e+00  3.47399836e-04]\n",
            " [-1.54749960e+00 -5.92947526e-05  7.11387092e-04]\n",
            " [ 1.54735170e+00 -4.69653663e-06 -7.11082484e-04]]\n",
            "converged SCF energy = -405.659405036571\n",
            "[ 107.70170719  311.74289849  434.25711166  508.85890284  546.81380019\n",
            "  760.19733065  793.98397689  873.60910819 1222.91918862 1282.04607322\n",
            " 1523.44823799 1545.64630063]\n",
            "{'temperature': (298.15, 'K'), 'pressure': (101325, 'Pa'), 'E0': (-405.6594050365713, 'Eh'), 'S_elec': (0.0, 'Eh/K'), 'Cv_elec': (0, 'Eh/K'), 'Cp_elec': (0, 'Eh/K'), 'E_elec': (-405.6594050365713, 'Eh'), 'H_elec': (-405.6594050365713, 'Eh'), 'S_trans': (6.289908387066597e-05, 'Eh/K'), 'Cv_trans': (4.750215777928532e-06, 'Eh/K'), 'Cp_trans': (7.917026296547553e-06, 'Eh/K'), 'E_trans': (0.0014162768341893916, 'Eh'), 'H_trans': (0.0023604613903156525, 'Eh'), 'rot_const': (array([6.39259168, 4.07946695, 2.49028092]), 'GHz'), 'sym_number': (1, ''), 'S_rot': (4.144429205264733e-05, 'Eh/K'), 'Cv_rot': (4.750215777928532e-06, 'Eh/K'), 'Cp_rot': (4.750215777928532e-06, 'Eh/K'), 'E_rot': (0.0014162768341893916, 'Eh'), 'H_rot': (0.0014162768341893916, 'Eh'), 'ZPE': (0.02257943113101926, 'Eh'), 'S_vib': (1.177980573812961e-05, 'Eh/K'), 'Cv_vib': (1.555916674142161e-05, 'Eh/K'), 'Cp_vib': (1.555916674142161e-05, 'Eh/K'), 'E_vib': (0.024658259787279636, 'Eh'), 'H_vib': (0.024658259787279636, 'Eh'), 'G_elec': (-405.6594050365713, 'Eh'), 'G_trans': (-0.016392900465723406, 'Eh'), 'G_rot': (-0.010940338841307408, 'Eh'), 'G_vib': (0.021146110706456292, 'Eh'), 'S_tot': (0.00011612318166144291, 'Eh/K'), 'Cv_tot': (2.5059598297278672e-05, 'Eh/K'), 'Cp_tot': (2.8226408815897693e-05, 'Eh/K'), 'E_0K': (-405.63682560544027, 'Eh'), 'E_tot': (-405.6319142231157, 'Eh'), 'H_tot': (-405.63097003855955, 'Eh'), 'G_tot': (-405.66559216517186, 'Eh')}\n",
            "[6.39259168 4.07946695 2.49028092]\n",
            "1\n"
          ]
        }
      ]
    },
    {
      "cell_type": "code",
      "source": [
        "#@title Exact (determined from statistical mechanics) and approximate values of $\\mu^0$\n",
        "# Defining some constants\n",
        "m_u    = 1.66053886e-27      # atomic mass constant in kg\n",
        "h      = 6.6260693e-34       # Planck's constant in J*s\n",
        "k_B    = 1.3806505e-23       # Boltzmann's constant in J/K\n",
        "c      = 2.99792558e8        # Speed of light in m/s\n",
        "bar2Pa = 1e5                 # 1 bar to N/m**2\n",
        "Pa2bar = 1e-5                # 1 Pa=N/m**2 to bar\n",
        "p0     = 1                   # standard pressure in bar\n",
        "R      = 8.314472e-3         # Gas constant in kJ/(K mol)\n",
        "H2kcal = 627.509             # Hartree to kcal/mol\n",
        "\n",
        "import numpy as np\n",
        "\n",
        "def G_m_0(temp,m,A,B,C,lin_A,nat_A,sigma,*freq):\n",
        "  import math\n",
        "  q_t = (2*math.pi*m*m_u*k_B*temp/h/h)**1.5*k_B*temp/bar2Pa\n",
        "  St = R * np.log(q_t)\n",
        "  Ut = 1.5 * R * temp\n",
        "  q_r = 1 ; q_v = 1 ; Sr = 0 ; Sv = 0 ; Ur = 0 ; Uv = 0\n",
        "  if nat_A > 1:\n",
        "    rA  = h * c * 100 * A / k_B\n",
        "    rB  = h * c * 100 * B / k_B\n",
        "    rC  = h * c * 100 * C / k_B\n",
        "    if lin_A == 0:\n",
        "      q_r = 1 / sigma * math.sqrt(math.pi)*(temp**1.5/math.sqrt(rA*rB*rC))\n",
        "      Sr = R * (1.5 + np.log(q_r))\n",
        "      Ur = 1.5 * R * temp\n",
        "    else:\n",
        "      if rA == 0:\n",
        "        rl = math.sqrt(rB*rC)\n",
        "      elif rB == 0:\n",
        "        rl = math.sqrt(rA*rC)\n",
        "      else:\n",
        "        rl = math.sqrt(rA*rB)\n",
        "      q_r = 1 / sigma * temp / rl\n",
        "      Sr = R * (1 + np.log(q_r))\n",
        "      Ur = R * temp\n",
        "    for ele in freq:\n",
        "      rv   = h * c * 100 * float(ele) / k_B\n",
        "      q_v *= 1 / (1 - np.exp(-rv/temp))\n",
        "      Sv  += R * (rv / temp / (np.exp(rv/temp) - 1) - np.log(1 - np.exp(-rv/temp)) )\n",
        "      Uv += R * rv / (np.exp(rv/temp) - 1)\n",
        "  q = q_t * q_r * q_v\n",
        "  return -R * temp * np.log(q_t), -R * temp * np.log(q_r), -R * temp * np.log(q_v), - R * temp * np.log(q), q_v\n"
      ],
      "metadata": {
        "id": "V28H7EHmo4yy"
      },
      "execution_count": 168,
      "outputs": []
    },
    {
      "cell_type": "code",
      "source": [
        "tot_mass=sum(mass)\n",
        "A = rot_info[0] * 0.033357\n",
        "B = rot_info[1] * 0.033357\n",
        "C = rot_info[2] * 0.033357\n",
        "if A == B and C <= 0.001: lin = 1\n",
        "else: lin=0\n",
        "sigma = symmetry_n\n",
        "freq = freq_info['freq_wavenumber']\n",
        "g_t, g_r, g_v, g , q_v= G_m_0(298.15,tot_mass,A,B,C,lin,nat_A,sigma,*freq)\n",
        "print(g_t/H2kcal/4.184, g_r/H2kcal/4.184, g_v/H2kcal/4.184, g/H2kcal/4.184)\n",
        "\n",
        "print('q_v',q_v)\n",
        "\n",
        "\n",
        "\n",
        "e0 = thermo_info['E0'][0]\n",
        "zpe = thermo_info['ZPE'][0]\n",
        "\n",
        "print('cojones',thermo_info['G_trans'][0])\n",
        "print('cojones',thermo_info['G_rot'][0])\n",
        "print('cojones',thermo_info['G_vib'][0])\n",
        "\n",
        "\n",
        "print(e0,zpe,e0+zpe,e0+zpe+g/H2kcal/4.184)"
      ],
      "metadata": {
        "id": "qPu9M85opD6O",
        "outputId": "65046797-9beb-4ece-febf-e307a6a06923",
        "colab": {
          "base_uri": "https://localhost:8080/"
        }
      },
      "execution_count": 169,
      "outputs": [
        {
          "output_type": "stream",
          "name": "stdout",
          "text": [
            "-0.016405368619716525 -0.010940339706677507 -0.0014333261176315748 -0.028779034444025606\n",
            "q_v 4.563335341617352\n",
            "cojones -0.016392900465723406\n",
            "cojones -0.010940338841307408\n",
            "cojones 0.021146110706456292\n",
            "-405.6594050365713 0.02257943113101926 -405.63682560544027 -405.6656046398843\n"
          ]
        }
      ]
    }
  ]
}