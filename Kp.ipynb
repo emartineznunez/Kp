{
  "nbformat": 4,
  "nbformat_minor": 0,
  "metadata": {
    "colab": {
      "provenance": []
    },
    "kernelspec": {
      "name": "python3",
      "display_name": "Python 3"
    },
    "language_info": {
      "name": "python"
    }
  },
  "cells": [
    {
      "cell_type": "markdown",
      "source": [
        "# **$K_p$**"
      ],
      "metadata": {
        "id": "0RhbqVUOJl0M"
      }
    },
    {
      "cell_type": "markdown",
      "source": [
        "# Installing third-party packages"
      ],
      "metadata": {
        "id": "9LmhQ0GeMi9z"
      }
    },
    {
      "cell_type": "code",
      "source": [
        "%%capture\n",
        "!pip install --prefer-binary pyscf\n",
        "!pip install pyscf[geomopt]"
      ],
      "metadata": {
        "id": "cQDTrDFQGe3p"
      },
      "execution_count": 15,
      "outputs": []
    },
    {
      "cell_type": "code",
      "source": [
        "from pyscf import gto, scf\n",
        "from pyscf.hessian import thermo\n",
        "from pyscf.geomopt.geometric_solver import optimize\n",
        "\n",
        "mol = gto.M(\n",
        "    atom = '''O    0.   0.       0\n",
        "              H    0.   -0.757   0.587\n",
        "              H    0.    0.757   0.587''',\n",
        "    basis='3-21g')\n",
        "mf = mol.RKS(xc='pbe')\n",
        "\n",
        "# geometric\n",
        "mol_eq = optimize(mf, maxsteps=100)\n",
        "print(mol_eq.atom_coords())\n",
        "\n",
        "\n",
        "mf = mol_eq.RKS(xc='pbe').run()\n",
        "\n",
        "hessian = mf.Hessian().kernel()\n",
        "\n",
        "freq_info = thermo.harmonic_analysis(mf.mol, hessian)\n",
        "thermo_info = thermo.thermo(mf, freq_info['freq_au'], 298.15, 101325)\n",
        "\n",
        "print(freq_info['freq_wavenumber'])\n",
        "print(thermo_info)\n",
        "\n"
      ],
      "metadata": {
        "id": "d0qXYOgvKDX7",
        "outputId": "b47e6723-98ef-4667-f2f1-e218804e80e1",
        "colab": {
          "base_uri": "https://localhost:8080/"
        }
      },
      "execution_count": 28,
      "outputs": [
        {
          "output_type": "stream",
          "name": "stderr",
          "text": [
            "geometric-optimize called with the following command line:\n",
            "/usr/local/lib/python3.10/dist-packages/colab_kernel_launcher.py -f /root/.local/share/jupyter/runtime/kernel-0a736671-b40b-4741-bd27-64a285b548a1.json\n",
            "\n",
            "                                        \u001b[91m())))))))))))))))/\u001b[0m                     \n",
            "                                    \u001b[91m())))))))))))))))))))))))),\u001b[0m                \n",
            "                                \u001b[91m*)))))))))))))))))))))))))))))))))\u001b[0m             \n",
            "                        \u001b[94m#,\u001b[0m    \u001b[91m()))))))))/\u001b[0m                \u001b[91m.)))))))))),\u001b[0m          \n",
            "                      \u001b[94m#%%%%,\u001b[0m  \u001b[91m())))))\u001b[0m                        \u001b[91m.))))))))*\u001b[0m        \n",
            "                      \u001b[94m*%%%%%%,\u001b[0m  \u001b[91m))\u001b[0m              \u001b[93m..\u001b[0m              \u001b[91m,))))))).\u001b[0m      \n",
            "                        \u001b[94m*%%%%%%,\u001b[0m         \u001b[93m***************/.\u001b[0m        \u001b[91m.)))))))\u001b[0m     \n",
            "                \u001b[94m#%%/\u001b[0m      \u001b[94m(%%%%%%,\u001b[0m    \u001b[93m/*********************.\u001b[0m       \u001b[91m)))))))\u001b[0m    \n",
            "              \u001b[94m.%%%%%%#\u001b[0m      \u001b[94m*%%%%%%,\u001b[0m  \u001b[93m*******/,\u001b[0m     \u001b[93m**********,\u001b[0m      \u001b[91m.))))))\u001b[0m   \n",
            "                \u001b[94m.%%%%%%/\u001b[0m      \u001b[94m*%%%%%%,\u001b[0m  \u001b[93m**\u001b[0m              \u001b[93m********\u001b[0m      \u001b[91m.))))))\u001b[0m  \n",
            "          \u001b[94m##\u001b[0m      \u001b[94m.%%%%%%/\u001b[0m      \u001b[94m(%%%%%%,\u001b[0m                  \u001b[93m,******\u001b[0m      \u001b[91m/)))))\u001b[0m  \n",
            "        \u001b[94m%%%%%%\u001b[0m      \u001b[94m.%%%%%%#\u001b[0m      \u001b[94m*%%%%%%,\u001b[0m    \u001b[92m,/////.\u001b[0m       \u001b[93m******\u001b[0m      \u001b[91m))))))\u001b[0m \n",
            "      \u001b[94m#%\u001b[0m      \u001b[94m%%\u001b[0m      \u001b[94m.%%%%%%/\u001b[0m      \u001b[94m*%%%%%%,\u001b[0m  \u001b[92m////////,\u001b[0m      \u001b[93m*****/\u001b[0m     \u001b[91m,)))))\u001b[0m \n",
            "    \u001b[94m#%%\u001b[0m  \u001b[94m%%%\u001b[0m  \u001b[94m%%%#\u001b[0m      \u001b[94m.%%%%%%/\u001b[0m      \u001b[94m(%%%%%%,\u001b[0m  \u001b[92m///////.\u001b[0m     \u001b[93m/*****\u001b[0m      \u001b[91m))))).\u001b[0m\n",
            "  \u001b[94m#%%%%.\u001b[0m      \u001b[94m%%%%%#\u001b[0m      \u001b[94m/%%%%%%*\u001b[0m      \u001b[94m#%%%%%%\u001b[0m   \u001b[92m/////)\u001b[0m     \u001b[93m******\u001b[0m      \u001b[91m))))),\u001b[0m\n",
            "    \u001b[94m#%%%%##%\u001b[0m  \u001b[94m%%%#\u001b[0m      \u001b[94m.%%%%%%/\u001b[0m      \u001b[94m(%%%%%%,\u001b[0m  \u001b[92m///////.\u001b[0m     \u001b[93m/*****\u001b[0m      \u001b[91m))))).\u001b[0m\n",
            "      \u001b[94m##\u001b[0m     \u001b[94m%%%\u001b[0m      \u001b[94m.%%%%%%/\u001b[0m      \u001b[94m*%%%%%%,\u001b[0m  \u001b[92m////////.\u001b[0m      \u001b[93m*****/\u001b[0m     \u001b[91m,)))))\u001b[0m \n",
            "        \u001b[94m#%%%%#\u001b[0m      \u001b[94m/%%%%%%/\u001b[0m      \u001b[94m(%%%%%%\u001b[0m      \u001b[92m/)/)//\u001b[0m       \u001b[93m******\u001b[0m      \u001b[91m))))))\u001b[0m \n",
            "          \u001b[94m##\u001b[0m      \u001b[94m.%%%%%%/\u001b[0m      \u001b[94m(%%%%%%,\u001b[0m                  \u001b[93m*******\u001b[0m      \u001b[91m))))))\u001b[0m  \n",
            "                \u001b[94m.%%%%%%/\u001b[0m      \u001b[94m*%%%%%%,\u001b[0m  \u001b[93m**.\u001b[0m             \u001b[93m/*******\u001b[0m      \u001b[91m.))))))\u001b[0m  \n",
            "              \u001b[94m*%%%%%%/\u001b[0m      \u001b[94m(%%%%%%\u001b[0m   \u001b[93m********/*..,*/*********\u001b[0m       \u001b[91m*))))))\u001b[0m   \n",
            "                \u001b[94m#%%/\u001b[0m      \u001b[94m(%%%%%%,\u001b[0m    \u001b[93m*********************/\u001b[0m        \u001b[91m)))))))\u001b[0m    \n",
            "                        \u001b[94m*%%%%%%,\u001b[0m         \u001b[93m,**************/\u001b[0m         \u001b[91m,))))))/\u001b[0m     \n",
            "                      \u001b[94m(%%%%%%\u001b[0m   \u001b[91m()\u001b[0m                              \u001b[91m))))))))\u001b[0m       \n",
            "                      \u001b[94m#%%%%,\u001b[0m  \u001b[91m())))))\u001b[0m                        \u001b[91m,)))))))),\u001b[0m        \n",
            "                        \u001b[94m#,\u001b[0m    \u001b[91m())))))))))\u001b[0m                \u001b[91m,)))))))))).\u001b[0m          \n",
            "                                 \u001b[91m()))))))))))))))))))))))))))))))/\u001b[0m             \n",
            "                                    \u001b[91m())))))))))))))))))))))))).\u001b[0m                \n",
            "                                         \u001b[91m())))))))))))))),\u001b[0m                     \n",
            "\n",
            "-=# \u001b[1;94m geomeTRIC started. Version: 1.0.2 \u001b[0m #=-\n",
            "Current date and time: 2024-05-25 10:20:01\n",
            "Custom engine selected.\n",
            "Bonds will be generated from interatomic distances less than 1.20 times sum of covalent radii\n",
            "9 internal coordinates being used (instead of 9 Cartesians)\n",
            "Internal coordinate system (atoms numbered from 1):\n",
            "Distance 1-2\n",
            "Distance 1-3\n",
            "Angle 2-1-3\n",
            "Translation-X 1-3\n",
            "Translation-Y 1-3\n",
            "Translation-Z 1-3\n",
            "Rotation-A 1-3\n",
            "Rotation-B 1-3\n",
            "Rotation-C 1-3\n",
            "<class 'geometric.internal.Distance'> : 2\n",
            "<class 'geometric.internal.Angle'> : 1\n",
            "<class 'geometric.internal.TranslationX'> : 1\n",
            "<class 'geometric.internal.TranslationY'> : 1\n",
            "<class 'geometric.internal.TranslationZ'> : 1\n",
            "<class 'geometric.internal.RotationA'> : 1\n",
            "<class 'geometric.internal.RotationB'> : 1\n",
            "<class 'geometric.internal.RotationC'> : 1\n",
            "> ===== Optimization Info: ====\n",
            "> Job type: Energy minimization\n",
            "> Maximum number of optimization cycles: 300\n",
            "> Initial / maximum trust radius (Angstrom): 0.100 / 0.300\n",
            "> Convergence Criteria:\n",
            "> Will converge when all 5 criteria are reached:\n",
            ">  |Delta-E| < 1.00e-06\n",
            ">  RMS-Grad  < 3.00e-04\n",
            ">  Max-Grad  < 4.50e-04\n",
            ">  RMS-Disp  < 1.20e-03\n",
            ">  Max-Disp  < 1.80e-03\n",
            "> === End Optimization Info ===\n"
          ]
        },
        {
          "output_type": "stream",
          "name": "stdout",
          "text": [
            "\n",
            "Geometry optimization cycle 1\n",
            "Cartesian coordinates (Angstrom)\n",
            " Atom        New coordinates             dX        dY        dZ\n",
            "   O   0.000000   0.000000   0.000000    0.000000  0.000000  0.000000\n",
            "   H   0.000000  -0.757000   0.587000    0.000000  0.000000  0.000000\n",
            "   H   0.000000   0.757000   0.587000    0.000000  0.000000  0.000000\n",
            "converged SCF energy = -75.8826931073016\n",
            "--------------- RKS_Scanner gradients ---------------\n",
            "         x                y                z\n",
            "0 O     0.0000000000     0.0000000000     0.0501994899\n",
            "1 H    -0.0000000000     0.0350185353    -0.0250998569\n",
            "2 H     0.0000000000    -0.0350185353    -0.0250998569\n",
            "----------------------------------------------\n",
            "cycle 1: E = -75.8826931073  dE = -75.8827  norm(grad) = 0.0789468\n"
          ]
        },
        {
          "output_type": "stream",
          "name": "stderr",
          "text": [
            "Step    0 : Gradient = 4.558e-02/5.020e-02 (rms/max) Energy = -75.8826931073\n",
            "Hessian Eigenvalues: 5.00000e-02 5.00000e-02 5.00000e-02 ... 1.60000e-01 5.59224e-01 5.59224e-01\n"
          ]
        },
        {
          "output_type": "stream",
          "name": "stdout",
          "text": [
            "\n",
            "Geometry optimization cycle 2\n",
            "Cartesian coordinates (Angstrom)\n",
            " Atom        New coordinates             dX        dY        dZ\n",
            "   O  -0.000000  -0.000000  -0.011792   -0.000000 -0.000000 -0.011792\n",
            "   H  -0.000000  -0.794783   0.592899   -0.000000 -0.037783  0.005899\n",
            "   H  -0.000000   0.794783   0.592899   -0.000000  0.037783  0.005899\n",
            "converged SCF energy = -75.8862096267555\n",
            "--------------- RKS_Scanner gradients ---------------\n",
            "         x                y                z\n",
            "0 O     0.0000000000    -0.0000000000     0.0125898929\n",
            "1 H     0.0000000000     0.0014890169    -0.0062957375\n",
            "2 H    -0.0000000000    -0.0014890169    -0.0062957375\n",
            "----------------------------------------------\n",
            "cycle 2: E = -75.8862096268  dE = -0.00351652  norm(grad) = 0.0155632\n"
          ]
        },
        {
          "output_type": "stream",
          "name": "stderr",
          "text": [
            "Step    1 : Displace = \u001b[0m3.196e-02\u001b[0m/\u001b[0m3.824e-02\u001b[0m (rms/max) Trust = 1.000e-01 (=) Grad = \u001b[0m8.985e-03\u001b[0m/\u001b[0m1.259e-02\u001b[0m (rms/max) E (change) = -75.8862096268 (\u001b[0m-3.517e-03\u001b[0m) Quality = \u001b[0m1.052\u001b[0m\n",
            "Hessian Eigenvalues: 5.00000e-02 5.00000e-02 5.00000e-02 ... 1.63021e-01 4.97370e-01 5.59224e-01\n"
          ]
        },
        {
          "output_type": "stream",
          "name": "stdout",
          "text": [
            "\n",
            "Geometry optimization cycle 3\n",
            "Cartesian coordinates (Angstrom)\n",
            " Atom        New coordinates             dX        dY        dZ\n",
            "   O  -0.000000   0.000000  -0.028878   -0.000000  0.000000 -0.017086\n",
            "   H  -0.000000  -0.785178   0.601470   -0.000000  0.009605  0.008571\n",
            "   H  -0.000000   0.785178   0.601470    0.000000 -0.009605  0.008571\n",
            "converged SCF energy = -75.8864927608625\n",
            "--------------- RKS_Scanner gradients ---------------\n",
            "         x                y                z\n",
            "0 O    -0.0000000000    -0.0000000000     0.0007671820\n",
            "1 H    -0.0000000000     0.0008985582    -0.0003852189\n",
            "2 H     0.0000000000    -0.0008985582    -0.0003852189\n",
            "----------------------------------------------\n",
            "cycle 3: E = -75.8864927609  dE = -0.000283134  norm(grad) = 0.00158119\n"
          ]
        },
        {
          "output_type": "stream",
          "name": "stderr",
          "text": [
            "Step    2 : Displace = \u001b[0m1.441e-02\u001b[0m/\u001b[0m1.710e-02\u001b[0m (rms/max) Trust = 1.414e-01 (\u001b[92m+\u001b[0m) Grad = \u001b[0m9.129e-04\u001b[0m/\u001b[0m9.777e-04\u001b[0m (rms/max) E (change) = -75.8864927609 (\u001b[0m-2.831e-04\u001b[0m) Quality = \u001b[0m1.012\u001b[0m\n",
            "Hessian Eigenvalues: 5.00000e-02 5.00000e-02 5.00000e-02 ... 1.69401e-01 4.75894e-01 5.59224e-01\n"
          ]
        },
        {
          "output_type": "stream",
          "name": "stdout",
          "text": [
            "\n",
            "Geometry optimization cycle 4\n",
            "Cartesian coordinates (Angstrom)\n",
            " Atom        New coordinates             dX        dY        dZ\n",
            "   O  -0.000000   0.000000  -0.028875    0.000000 -0.000000  0.000003\n",
            "   H   0.000000  -0.786423   0.601522    0.000000 -0.001245  0.000051\n",
            "   H  -0.000000   0.786423   0.601522    0.000000  0.001245  0.000051\n",
            "converged SCF energy = -75.8864951730678\n",
            "--------------- RKS_Scanner gradients ---------------\n",
            "         x                y                z\n",
            "0 O    -0.0000000000    -0.0000000000     0.0001070532\n",
            "1 H    -0.0000000000     0.0001158520    -0.0000552951\n",
            "2 H     0.0000000000    -0.0001158520    -0.0000552951\n",
            "----------------------------------------------\n",
            "cycle 4: E = -75.8864951731  dE = -2.41221e-06  norm(grad) = 0.000210758\n"
          ]
        },
        {
          "output_type": "stream",
          "name": "stderr",
          "text": [
            "Step    3 : Displace = \u001b[92m1.017e-03\u001b[0m/\u001b[92m1.245e-03\u001b[0m (rms/max) Trust = 2.000e-01 (\u001b[92m+\u001b[0m) Grad = \u001b[92m1.217e-04\u001b[0m/\u001b[92m1.284e-04\u001b[0m (rms/max) E (change) = -75.8864951731 (\u001b[0m-2.412e-06\u001b[0m) Quality = \u001b[0m1.122\u001b[0m\n",
            "Hessian Eigenvalues: 4.99936e-02 5.00000e-02 5.00000e-02 ... 1.69416e-01 4.14446e-01 5.59224e-01\n"
          ]
        },
        {
          "output_type": "stream",
          "name": "stdout",
          "text": [
            "\n",
            "Geometry optimization cycle 5\n",
            "Cartesian coordinates (Angstrom)\n",
            " Atom        New coordinates             dX        dY        dZ\n",
            "   O   0.000000   0.000000  -0.028852    0.000000  0.000000  0.000022\n",
            "   H   0.000000  -0.786598   0.601575    0.000000 -0.000175  0.000053\n",
            "   H  -0.000000   0.786598   0.601575    0.000000  0.000175  0.000053\n",
            "converged SCF energy = -75.8864952132454\n",
            "--------------- RKS_Scanner gradients ---------------\n",
            "         x                y                z\n",
            "0 O     0.0000000000     0.0000000000     0.0000000476\n",
            "1 H    -0.0000000000     0.0000005771    -0.0000018125\n",
            "2 H    -0.0000000000    -0.0000005771    -0.0000018125\n",
            "----------------------------------------------\n",
            "cycle 5: E = -75.8864952132  dE = -4.01776e-08  norm(grad) = 2.6905e-06\n"
          ]
        },
        {
          "output_type": "stream",
          "name": "stderr",
          "text": [
            "Step    4 : Displace = \u001b[92m1.433e-04\u001b[0m/\u001b[92m1.749e-04\u001b[0m (rms/max) Trust = 2.828e-01 (\u001b[92m+\u001b[0m) Grad = \u001b[92m1.553e-06\u001b[0m/\u001b[92m1.902e-06\u001b[0m (rms/max) E (change) = -75.8864952132 (\u001b[92m-4.018e-08\u001b[0m) Quality = \u001b[0m0.967\u001b[0m\n",
            "Hessian Eigenvalues: 4.99936e-02 5.00000e-02 5.00000e-02 ... 1.69416e-01 4.14446e-01 5.59224e-01\n",
            "Converged! =D\n",
            "\n",
            "    #==========================================================================#\n",
            "    #| If this code has benefited your research, please support us by citing: |#\n",
            "    #|                                                                        |#\n",
            "    #| Wang, L.-P.; Song, C.C. (2016) \"Geometry optimization made simple with |#\n",
            "    #| translation and rotation coordinates\", J. Chem, Phys. 144, 214108.     |#\n",
            "    #| http://dx.doi.org/10.1063/1.4952956                                    |#\n",
            "    #==========================================================================#\n",
            "    Time elapsed since start of run_optimizer: 5.099 seconds\n"
          ]
        },
        {
          "output_type": "stream",
          "name": "stdout",
          "text": [
            "[[ 4.65404324e-15  9.36321606e-14 -5.45231085e-02]\n",
            " [ 7.98480816e-15 -1.48645454e+00  1.13681250e+00]\n",
            " [-1.09122424e-14  1.48645454e+00  1.13681250e+00]]\n",
            "converged SCF energy = -75.8864952132556\n",
            "[1664.16771138 3300.24671184 3444.27138217]\n",
            "{'temperature': (298.15, 'K'), 'pressure': (101325, 'Pa'), 'E0': (-75.88649521325563, 'Eh'), 'S_elec': (0.0, 'Eh/K'), 'Cv_elec': (0, 'Eh/K'), 'Cp_elec': (0, 'Eh/K'), 'E_elec': (-75.88649521325563, 'Eh'), 'H_elec': (-75.88649521325563, 'Eh'), 'S_trans': (5.515294252088886e-05, 'Eh/K'), 'Cv_trans': (4.750215777928532e-06, 'Eh/K'), 'Cp_trans': (7.917026296547553e-06, 'Eh/K'), 'E_trans': (0.0014162768341893916, 'Eh'), 'H_trans': (0.0023604613903156525, 'Eh'), 'rot_const': (array([710.22767385, 405.15494537, 257.98524151]), 'GHz'), 'sym_number': (2, ''), 'S_rot': (1.7161901085547863e-05, 'Eh/K'), 'Cv_rot': (4.750215777928532e-06, 'Eh/K'), 'Cp_rot': (4.750215777928532e-06, 'Eh/K'), 'E_rot': (0.0014162768341893916, 'Eh'), 'H_rot': (0.0014162768341893916, 'Eh'), 'ZPE': (0.019156395804489926, 'Eh'), 'S_vib': (9.316033382857226e-09, 'Eh/K'), 'Cv_vib': (6.66328343674842e-08, 'Eh/K'), 'Cp_vib': (6.66328343674842e-08, 'Eh/K'), 'E_vib': (0.019158866009868526, 'Eh'), 'H_vib': (0.019158866009868526, 'Eh'), 'G_elec': (-75.88649521325563, 'Eh'), 'G_trans': (-0.01408338842228736, 'Eh'), 'G_rot': (-0.0037005439744667032, 'Eh'), 'G_vib': (0.01915608843451543, 'Eh'), 'S_tot': (7.232415963981959e-05, 'Eh/K'), 'Cv_tot': (9.567064390224548e-06, 'Eh/K'), 'Cp_tot': (1.273387490884357e-05, 'Eh/K'), 'E_0K': (-75.86733881745114, 'Eh'), 'E_tot': (-75.86450379357737, 'Eh'), 'H_tot': (-75.86355960902125, 'Eh'), 'G_tot': (-75.88512305721787, 'Eh')}\n"
          ]
        }
      ]
    }
  ]
}