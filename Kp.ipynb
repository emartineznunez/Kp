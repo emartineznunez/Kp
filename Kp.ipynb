{
  "nbformat": 4,
  "nbformat_minor": 0,
  "metadata": {
    "colab": {
      "provenance": []
    },
    "kernelspec": {
      "name": "python3",
      "display_name": "Python 3"
    },
    "language_info": {
      "name": "python"
    }
  },
  "cells": [
    {
      "cell_type": "markdown",
      "source": [
        "# **$K_p$**"
      ],
      "metadata": {
        "id": "0RhbqVUOJl0M"
      }
    },
    {
      "cell_type": "markdown",
      "source": [
        "# Installing third-party packages"
      ],
      "metadata": {
        "id": "9LmhQ0GeMi9z"
      }
    },
    {
      "cell_type": "code",
      "source": [
        "%%capture\n",
        "!pip install --prefer-binary pyscf\n",
        "!pip install pyscf[geomopt]"
      ],
      "metadata": {
        "id": "cQDTrDFQGe3p"
      },
      "execution_count": 1,
      "outputs": []
    },
    {
      "cell_type": "code",
      "source": [
        "from pyscf import gto, scf\n",
        "mol = gto.M(atom='N 0 0 0; N 0 0 1.2', basis='3-21g')\n",
        "mf = scf.RHF(mol)\n",
        "\n",
        "# geometric\n",
        "from pyscf.geomopt.geometric_solver import optimize\n",
        "mol_eq = optimize(mf, maxsteps=100)\n",
        "print(mol_eq.atom_coords())"
      ],
      "metadata": {
        "id": "d0qXYOgvKDX7",
        "outputId": "470ae8aa-ab14-45b5-b56b-1f0dec65c90d",
        "colab": {
          "base_uri": "https://localhost:8080/"
        }
      },
      "execution_count": 8,
      "outputs": [
        {
          "output_type": "stream",
          "name": "stderr",
          "text": [
            "geometric-optimize called with the following command line:\n",
            "/usr/local/lib/python3.10/dist-packages/colab_kernel_launcher.py -f /root/.local/share/jupyter/runtime/kernel-0a736671-b40b-4741-bd27-64a285b548a1.json\n",
            "\n",
            "                                        \u001b[91m())))))))))))))))/\u001b[0m                     \n",
            "                                    \u001b[91m())))))))))))))))))))))))),\u001b[0m                \n",
            "                                \u001b[91m*)))))))))))))))))))))))))))))))))\u001b[0m             \n",
            "                        \u001b[94m#,\u001b[0m    \u001b[91m()))))))))/\u001b[0m                \u001b[91m.)))))))))),\u001b[0m          \n",
            "                      \u001b[94m#%%%%,\u001b[0m  \u001b[91m())))))\u001b[0m                        \u001b[91m.))))))))*\u001b[0m        \n",
            "                      \u001b[94m*%%%%%%,\u001b[0m  \u001b[91m))\u001b[0m              \u001b[93m..\u001b[0m              \u001b[91m,))))))).\u001b[0m      \n",
            "                        \u001b[94m*%%%%%%,\u001b[0m         \u001b[93m***************/.\u001b[0m        \u001b[91m.)))))))\u001b[0m     \n",
            "                \u001b[94m#%%/\u001b[0m      \u001b[94m(%%%%%%,\u001b[0m    \u001b[93m/*********************.\u001b[0m       \u001b[91m)))))))\u001b[0m    \n",
            "              \u001b[94m.%%%%%%#\u001b[0m      \u001b[94m*%%%%%%,\u001b[0m  \u001b[93m*******/,\u001b[0m     \u001b[93m**********,\u001b[0m      \u001b[91m.))))))\u001b[0m   \n",
            "                \u001b[94m.%%%%%%/\u001b[0m      \u001b[94m*%%%%%%,\u001b[0m  \u001b[93m**\u001b[0m              \u001b[93m********\u001b[0m      \u001b[91m.))))))\u001b[0m  \n",
            "          \u001b[94m##\u001b[0m      \u001b[94m.%%%%%%/\u001b[0m      \u001b[94m(%%%%%%,\u001b[0m                  \u001b[93m,******\u001b[0m      \u001b[91m/)))))\u001b[0m  \n",
            "        \u001b[94m%%%%%%\u001b[0m      \u001b[94m.%%%%%%#\u001b[0m      \u001b[94m*%%%%%%,\u001b[0m    \u001b[92m,/////.\u001b[0m       \u001b[93m******\u001b[0m      \u001b[91m))))))\u001b[0m \n",
            "      \u001b[94m#%\u001b[0m      \u001b[94m%%\u001b[0m      \u001b[94m.%%%%%%/\u001b[0m      \u001b[94m*%%%%%%,\u001b[0m  \u001b[92m////////,\u001b[0m      \u001b[93m*****/\u001b[0m     \u001b[91m,)))))\u001b[0m \n",
            "    \u001b[94m#%%\u001b[0m  \u001b[94m%%%\u001b[0m  \u001b[94m%%%#\u001b[0m      \u001b[94m.%%%%%%/\u001b[0m      \u001b[94m(%%%%%%,\u001b[0m  \u001b[92m///////.\u001b[0m     \u001b[93m/*****\u001b[0m      \u001b[91m))))).\u001b[0m\n",
            "  \u001b[94m#%%%%.\u001b[0m      \u001b[94m%%%%%#\u001b[0m      \u001b[94m/%%%%%%*\u001b[0m      \u001b[94m#%%%%%%\u001b[0m   \u001b[92m/////)\u001b[0m     \u001b[93m******\u001b[0m      \u001b[91m))))),\u001b[0m\n",
            "    \u001b[94m#%%%%##%\u001b[0m  \u001b[94m%%%#\u001b[0m      \u001b[94m.%%%%%%/\u001b[0m      \u001b[94m(%%%%%%,\u001b[0m  \u001b[92m///////.\u001b[0m     \u001b[93m/*****\u001b[0m      \u001b[91m))))).\u001b[0m\n",
            "      \u001b[94m##\u001b[0m     \u001b[94m%%%\u001b[0m      \u001b[94m.%%%%%%/\u001b[0m      \u001b[94m*%%%%%%,\u001b[0m  \u001b[92m////////.\u001b[0m      \u001b[93m*****/\u001b[0m     \u001b[91m,)))))\u001b[0m \n",
            "        \u001b[94m#%%%%#\u001b[0m      \u001b[94m/%%%%%%/\u001b[0m      \u001b[94m(%%%%%%\u001b[0m      \u001b[92m/)/)//\u001b[0m       \u001b[93m******\u001b[0m      \u001b[91m))))))\u001b[0m \n",
            "          \u001b[94m##\u001b[0m      \u001b[94m.%%%%%%/\u001b[0m      \u001b[94m(%%%%%%,\u001b[0m                  \u001b[93m*******\u001b[0m      \u001b[91m))))))\u001b[0m  \n",
            "                \u001b[94m.%%%%%%/\u001b[0m      \u001b[94m*%%%%%%,\u001b[0m  \u001b[93m**.\u001b[0m             \u001b[93m/*******\u001b[0m      \u001b[91m.))))))\u001b[0m  \n",
            "              \u001b[94m*%%%%%%/\u001b[0m      \u001b[94m(%%%%%%\u001b[0m   \u001b[93m********/*..,*/*********\u001b[0m       \u001b[91m*))))))\u001b[0m   \n",
            "                \u001b[94m#%%/\u001b[0m      \u001b[94m(%%%%%%,\u001b[0m    \u001b[93m*********************/\u001b[0m        \u001b[91m)))))))\u001b[0m    \n",
            "                        \u001b[94m*%%%%%%,\u001b[0m         \u001b[93m,**************/\u001b[0m         \u001b[91m,))))))/\u001b[0m     \n",
            "                      \u001b[94m(%%%%%%\u001b[0m   \u001b[91m()\u001b[0m                              \u001b[91m))))))))\u001b[0m       \n",
            "                      \u001b[94m#%%%%,\u001b[0m  \u001b[91m())))))\u001b[0m                        \u001b[91m,)))))))),\u001b[0m        \n",
            "                        \u001b[94m#,\u001b[0m    \u001b[91m())))))))))\u001b[0m                \u001b[91m,)))))))))).\u001b[0m          \n",
            "                                 \u001b[91m()))))))))))))))))))))))))))))))/\u001b[0m             \n",
            "                                    \u001b[91m())))))))))))))))))))))))).\u001b[0m                \n",
            "                                         \u001b[91m())))))))))))))),\u001b[0m                     \n",
            "\n",
            "-=# \u001b[1;94m geomeTRIC started. Version: 1.0.2 \u001b[0m #=-\n",
            "Current date and time: 2024-05-25 09:54:04\n",
            "Custom engine selected.\n",
            "Bonds will be generated from interatomic distances less than 1.20 times sum of covalent radii\n",
            "6 internal coordinates being used (instead of 6 Cartesians)\n",
            "Internal coordinate system (atoms numbered from 1):\n",
            "Distance 1-2\n",
            "Translation-X 1-2\n",
            "Translation-Y 1-2\n",
            "Translation-Z 1-2\n",
            "Rotation-A 1-2\n",
            "Rotation-B 1-2\n",
            "Rotation-C 1-2\n",
            "<class 'geometric.internal.Distance'> : 1\n",
            "<class 'geometric.internal.TranslationX'> : 1\n",
            "<class 'geometric.internal.TranslationY'> : 1\n",
            "<class 'geometric.internal.TranslationZ'> : 1\n",
            "<class 'geometric.internal.RotationA'> : 1\n",
            "<class 'geometric.internal.RotationB'> : 1\n",
            "<class 'geometric.internal.RotationC'> : 1\n",
            "> ===== Optimization Info: ====\n",
            "> Job type: Energy minimization\n",
            "> Maximum number of optimization cycles: 300\n",
            "> Initial / maximum trust radius (Angstrom): 0.100 / 0.300\n",
            "> Convergence Criteria:\n",
            "> Will converge when all 5 criteria are reached:\n",
            ">  |Delta-E| < 1.00e-06\n",
            ">  RMS-Grad  < 3.00e-04\n",
            ">  Max-Grad  < 4.50e-04\n",
            ">  RMS-Disp  < 1.20e-03\n",
            ">  Max-Disp  < 1.80e-03\n",
            "> === End Optimization Info ===\n"
          ]
        },
        {
          "output_type": "stream",
          "name": "stdout",
          "text": [
            "\n",
            "Geometry optimization cycle 1\n",
            "Cartesian coordinates (Angstrom)\n",
            " Atom        New coordinates             dX        dY        dZ\n",
            "   N   0.000000   0.000000   0.000000    0.000000  0.000000  0.000000\n",
            "   N   0.000000   0.000000   1.200000    0.000000  0.000000  0.000000\n",
            "converged SCF energy = -108.267501682325\n",
            "--------------- RHF_Scanner gradients ---------------\n",
            "         x                y                z\n",
            "0 N    -0.0000000000    -0.0000000000    -0.2610960368\n",
            "1 N     0.0000000000     0.0000000000     0.2610960368\n",
            "----------------------------------------------\n",
            "cycle 1: E = -108.267501682  dE = -108.268  norm(grad) = 0.369246\n"
          ]
        },
        {
          "output_type": "stream",
          "name": "stderr",
          "text": [
            "Step    0 : Gradient = 2.611e-01/2.611e-01 (rms/max) Energy = -108.2675016823\n",
            "Hessian Eigenvalues: 5.00000e-02 5.00000e-02 5.00000e-02 ... 5.00000e-02 5.00000e-02 1.04823e+00\n"
          ]
        },
        {
          "output_type": "stream",
          "name": "stdout",
          "text": [
            "\n",
            "Geometry optimization cycle 2\n",
            "Cartesian coordinates (Angstrom)\n",
            " Atom        New coordinates             dX        dY        dZ\n",
            "   N   0.000000   0.000000   0.065904    0.000000  0.000000  0.065904\n",
            "   N  -0.000000  -0.000000   1.134096   -0.000000 -0.000000 -0.065904\n",
            "converged SCF energy = -108.300235512025\n",
            "--------------- RHF_Scanner gradients ---------------\n",
            "         x                y                z\n",
            "0 N    -0.0000000000    -0.0000000000     0.0528412936\n",
            "1 N     0.0000000000     0.0000000000    -0.0528412936\n",
            "----------------------------------------------\n",
            "cycle 2: E = -108.300235512  dE = -0.0327338  norm(grad) = 0.0747289\n"
          ]
        },
        {
          "output_type": "stream",
          "name": "stderr",
          "text": [
            "Step    1 : Displace = \u001b[0m6.590e-02\u001b[0m/\u001b[0m6.590e-02\u001b[0m (rms/max) Trust = 1.000e-01 (=) Grad = \u001b[0m5.284e-02\u001b[0m/\u001b[0m5.284e-02\u001b[0m (rms/max) E (change) = -108.3002355120 (\u001b[0m-3.273e-02\u001b[0m) Quality = \u001b[0m1.007\u001b[0m\n",
            "Hessian Eigenvalues: 5.00000e-02 5.00000e-02 5.00000e-02 ... 5.00000e-02 5.00000e-02 1.26037e+00\n"
          ]
        },
        {
          "output_type": "stream",
          "name": "stdout",
          "text": [
            "\n",
            "Geometry optimization cycle 3\n",
            "Cartesian coordinates (Angstrom)\n",
            " Atom        New coordinates             dX        dY        dZ\n",
            "   N   0.000000   0.000000   0.054812   -0.000000  0.000000 -0.011093\n",
            "   N  -0.000000  -0.000000   1.145188    0.000000 -0.000000  0.011093\n",
            "converged SCF energy = -108.300773264686\n",
            "--------------- RHF_Scanner gradients ---------------\n",
            "         x                y                z\n",
            "0 N     0.0000000000     0.0000000000    -0.0250648189\n",
            "1 N    -0.0000000000    -0.0000000000     0.0250648189\n",
            "----------------------------------------------\n",
            "cycle 3: E = -108.300773265  dE = -0.000537753  norm(grad) = 0.035447\n"
          ]
        },
        {
          "output_type": "stream",
          "name": "stderr",
          "text": [
            "Step    2 : Displace = \u001b[0m1.109e-02\u001b[0m/\u001b[0m1.109e-02\u001b[0m (rms/max) Trust = 1.414e-01 (\u001b[92m+\u001b[0m) Grad = \u001b[0m2.506e-02\u001b[0m/\u001b[0m2.506e-02\u001b[0m (rms/max) E (change) = -108.3007732647 (\u001b[0m-5.378e-04\u001b[0m) Quality = \u001b[0m0.485\u001b[0m\n",
            "Hessian Eigenvalues: 5.00000e-02 5.00000e-02 5.00000e-02 ... 5.00000e-02 5.00000e-02 1.85822e+00\n"
          ]
        },
        {
          "output_type": "stream",
          "name": "stdout",
          "text": [
            "\n",
            "Geometry optimization cycle 4\n",
            "Cartesian coordinates (Angstrom)\n",
            " Atom        New coordinates             dX        dY        dZ\n",
            "   N  -0.000000  -0.000000   0.058380   -0.000000 -0.000000  0.003569\n",
            "   N   0.000000   0.000000   1.141620    0.000000  0.000000 -0.003569\n",
            "converged SCF energy = -108.300953032165\n",
            "--------------- RHF_Scanner gradients ---------------\n",
            "         x                y                z\n",
            "0 N     0.0000000000    -0.0000000000    -0.0013795518\n",
            "1 N    -0.0000000000     0.0000000000     0.0013795518\n",
            "----------------------------------------------\n",
            "cycle 4: E = -108.300953032  dE = -0.000179767  norm(grad) = 0.00195098\n"
          ]
        },
        {
          "output_type": "stream",
          "name": "stderr",
          "text": [
            "Step    3 : Displace = \u001b[0m3.569e-03\u001b[0m/\u001b[0m3.569e-03\u001b[0m (rms/max) Trust = 1.414e-01 (=) Grad = \u001b[0m1.380e-03\u001b[0m/\u001b[0m1.380e-03\u001b[0m (rms/max) E (change) = -108.3009530322 (\u001b[0m-1.798e-04\u001b[0m) Quality = \u001b[0m1.063\u001b[0m\n",
            "Hessian Eigenvalues: 5.00000e-02 5.00000e-02 5.00000e-02 ... 5.00000e-02 5.00000e-02 1.75595e+00\n"
          ]
        },
        {
          "output_type": "stream",
          "name": "stdout",
          "text": [
            "\n",
            "Geometry optimization cycle 5\n",
            "Cartesian coordinates (Angstrom)\n",
            " Atom        New coordinates             dX        dY        dZ\n",
            "   N  -0.000000   0.000000   0.058588   -0.000000  0.000000  0.000208\n",
            "   N   0.000000  -0.000000   1.141412    0.000000 -0.000000 -0.000208\n",
            "converged SCF energy = -108.300953558983\n",
            "--------------- RHF_Scanner gradients ---------------\n",
            "         x                y                z\n",
            "0 N    -0.0000000000    -0.0000000000     0.0000400060\n",
            "1 N     0.0000000000     0.0000000000    -0.0000400060\n",
            "----------------------------------------------\n",
            "cycle 5: E = -108.300953559  dE = -5.26817e-07  norm(grad) = 5.6577e-05\n"
          ]
        },
        {
          "output_type": "stream",
          "name": "stderr",
          "text": [
            "Step    4 : Displace = \u001b[92m2.079e-04\u001b[0m/\u001b[92m2.079e-04\u001b[0m (rms/max) Trust = 2.000e-01 (\u001b[92m+\u001b[0m) Grad = \u001b[92m4.001e-05\u001b[0m/\u001b[92m4.001e-05\u001b[0m (rms/max) E (change) = -108.3009535590 (\u001b[92m-5.268e-07\u001b[0m) Quality = \u001b[0m0.972\u001b[0m\n",
            "Hessian Eigenvalues: 5.00000e-02 5.00000e-02 5.00000e-02 ... 5.00000e-02 5.00000e-02 1.75595e+00\n",
            "Converged! =D\n",
            "\n",
            "    #==========================================================================#\n",
            "    #| If this code has benefited your research, please support us by citing: |#\n",
            "    #|                                                                        |#\n",
            "    #| Wang, L.-P.; Song, C.C. (2016) \"Geometry optimization made simple with |#\n",
            "    #| translation and rotation coordinates\", J. Chem, Phys. 144, 214108.     |#\n",
            "    #| http://dx.doi.org/10.1063/1.4952956                                    |#\n",
            "    #==========================================================================#\n",
            "    Time elapsed since start of run_optimizer: 1.173 seconds\n"
          ]
        },
        {
          "output_type": "stream",
          "name": "stdout",
          "text": [
            "[[-5.63746605e-15  9.27008022e-15  1.10715891e-01]\n",
            " [ 5.63746605e-15 -9.27008022e-15  2.15695546e+00]]\n"
          ]
        }
      ]
    }
  ]
}