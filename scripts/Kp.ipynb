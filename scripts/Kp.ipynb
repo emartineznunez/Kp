{
  "nbformat": 4,
  "nbformat_minor": 0,
  "metadata": {
    "colab": {
      "provenance": []
    },
    "kernelspec": {
      "name": "python3",
      "display_name": "Python 3"
    },
    "language_info": {
      "name": "python"
    }
  },
  "cells": [
    {
      "cell_type": "markdown",
      "source": [
        "# **Equilibrium condition for a gas-phase chemical reaction**\n",
        "\n",
        "We assume a gas-phase chemical reaction and, for simplicity, gases are ideal.\n",
        "\n",
        "During an irreversible chemical reaction ($0→\\sum_i\\nu_i\\mathrm{A}_i$) carried out at constant $p$ and $T$ in a single-phase system, the variation of the Gibbs energy is given by:\n",
        "\n",
        "\\begin{equation}\n",
        "    dG=\\sum_i \\mu_idn_i \\tag{1}\n",
        "\\end{equation}\n",
        "\n",
        "where $\\mu_i=\\bar G_i=\\left(\\partial G/\\partial n_i \\right)_{T,p,n_{j\\neq i}}$ is the partial molar Gibbs energy of $i$, _aka_, the chemical potential of $i$.\n",
        "When the chemical reaction reaches equilibrium the following condition is therefore fulfilled:\n",
        "\n",
        "\\begin{equation}\n",
        "    \\sum_i \\mu_idn_i=0  \\tag{2}\n",
        "\\end{equation}\n",
        "\n",
        "The number of moles of each species, $n_i$, can be expressed in the following way:\n",
        "\n",
        "\\begin{equation}\n",
        "    n_i=n_i(0)+\\nu_i\\xi \\tag{3}\n",
        "\\end{equation}\n",
        "\n",
        "with $n_i(0)$ referring to the number of moles of $i$ in the initial mixture, and $\\xi$ being usually known as the extent of reaction. This quantity has units of moles, and it can be positive or negative depending on how the reaction proceeds from the initial mixture. Therefore eq (2) can be expressed as:\n",
        "\n",
        "\\begin{equation}\n",
        "    d\\xi\\sum_i \\nu_i\\mu_i=0  \\tag{4}\n",
        "\\end{equation}\n",
        "\n",
        "which leads to the condition for equilibrium in a chemical reaction:\n",
        "\\begin{equation}\n",
        "    \\left(\\frac{\\partial G}{\\partial \\xi}\\right)_{T,p}=\\sum_i \\nu_i\\mu_i=0  \\tag{5}\n",
        "\\end{equation}\n",
        "\n",
        "Note that, when the chemical reaction is carried out in a constant-volume vessel, the state function that should be minimized is the Helmholtz energy $A$. Interestingly, the variation of $A$ at constant $T$ and $V$ leads to:\n",
        "\\begin{equation}\n",
        "    dA=\\sum_i \\mu_idn_i \\tag{6}\n",
        "\\end{equation}\n",
        "whose minimization results in an equation similar to eq (5): $\\left(\\frac{\\partial A}{\\partial \\xi}\\right)_{T,V}=\\sum_i \\nu_i\\mu_i=0$. Consequently, the condition for equilibrium in a chemical reaction is given by $\\sum_i \\nu_i\\mu_i=0$, independently on how the gas-phase chemical reaction was carried out (at constant $T$ and $p$, or at constant $T$ and $V$).\n",
        "\n",
        "The chemical potential of an ideal gas in a mixture can be expressed as:\n",
        "\\begin{equation}\n",
        "    \\mu_i =\\mu_i^0+RT\\ln(p_i/p^0)  \\tag{7}\n",
        "\\end{equation}\n",
        "with $\\mu_i^0$ being the chemical potential for a pressure of $p^0=1$ bar, and $p_i$ the partial pressure of the gas. Therefore, the equilibrium condition of eq (5) can be expressed as:\n",
        "\\begin{equation}\n",
        "    \\sum_i \\nu_i\\mu_i=\\sum_i\\nu_i\\mu_i^0+RT\\sum_i\\nu_i\\ln(p_{i,eq}/p^0)=0  \\tag{8}\n",
        "\\end{equation}\n",
        "which can be expressed as:\n",
        "\\begin{equation}\n",
        "    \\Delta G^0=-RT\\ln\\left(\\prod_i(p_{i,eq}/p^0)^{\\nu_i}\\right)  \\tag{9}\n",
        "\\end{equation}\n",
        "where $\\Delta G^0$ is the standard Gibbs energy or reaction, and the product of eq (9) is the so-called standard pressure equilibrium constant $K_p^0$, which leads to the well known equation:\n",
        "\\begin{equation}\n",
        "    \\Delta G^0=-RT\\ln K_p^0  \\tag{10}\n",
        "\\end{equation}\n"
      ],
      "metadata": {
        "id": "h2AyVE3N2r2E"
      }
    },
    {
      "cell_type": "markdown",
      "source": [
        "## **The case of a chemical reaction conducted at constant $p$ and $T$**\n",
        "The chemical potential obtained in eq (7) can be expressed as:\n",
        "\\begin{equation}\n",
        "    \\mu_i =\\mu_i^0+RT\\ln(p/p^0)+RT\\ln x_i=\\mu_i^*+RT\\ln x_i  \\tag{11}\n",
        "\\end{equation}\n",
        "where $\\mu_i^*$ is the chemical potential of pure $i$ and is a constant for a chemical transformation at constant $T$ and $p$, while $x_i$ depends on $\\xi$ in the following way [see eq (3)]:\n",
        "\\begin{equation}\n",
        "    x_i =\\frac{n_i(0)+\\nu_i\\xi}{n(0)+\\Delta\\nu\\xi} \\tag{12}\n",
        "\\end{equation}\n",
        "with $n(0)$ being the initial number of moles, and $\\Delta\\nu=\\sum_i\\nu_i$. From eq (3) and the gas law, it follows that, in a constant $T$ and $p$ chemical reaction, the volume of the reaction vessel has to change in the same proportion as the number of moles.\n",
        "The variation of the Gibbs energy with $\\xi$ can be easily obtained from its definition and eqs (3) and (7):\n",
        "\\begin{equation}\n",
        "    G =\\sum_in_i\\mu_i=\\sum_in_i(0)\\mu_i^*+\\xi\\sum_i\\nu_i\\mu_i^*+RT\\sum_in_i\\ln x_i \\tag{13}\n",
        "\\end{equation}\n",
        "which can be expressed in the following way:\n",
        "\\begin{equation}\n",
        "    G =G^*(0)+\\xi\\Delta G^*+\\Delta _{\\mathrm{mix}} G(\\xi) \\tag{14}\n",
        "\\end{equation}\n",
        "with $G^*(0)$ being the Gibbs energy of the pure gases (_i.e._, before mixing) present at the beginning of the chemical reaction. $\\Delta G^*$ is the change in $G$ of the separated pure reactants, into the separated pure products, both at $p$ and $T$. This quantity is just the standard Gibbs energy of reaction $\\Delta G^0$ when $p=1$ bar. The last term represents the drop in the Gibbs energy when the gases mix up, and it shows a complicated dependence with the extent of reaction:\n",
        "\\begin{equation}\n",
        "    \\Delta _{\\mathrm{mix}} G(\\xi)=RT\\sum_i(n_i(0)+\\nu_i\\xi)\\ln \\frac{n_i(0)+\\nu_i\\xi}{n(0)+\\Delta\\nu\\xi} \\tag{15}\n",
        "\\end{equation}\n",
        "Therefore minimization of eq (13) leads to:\n",
        "\\begin{equation}\n",
        "    \\frac{dG}{d\\xi}=\\sum_i\\nu_i\\mu_i^*+RT\\sum_i\\left(\\frac{dn_i}{d\\xi}\\ln x_i+n\\frac{dx_i}{d\\xi}\\right) \\\\  \n",
        "    =\\sum_i\\nu_i\\mu_i^0+RT\\sum_i\\ln(p/p^0)^{\\nu_i}+RT\\sum_i\\ln x_i^{\\nu_i}+nRT\\sum_i\\frac{dx_i}{d\\xi} \\\\\n",
        "    =\\Delta G^0+RT\\sum_i\\ln(p_i/p^0)^{\\nu_i}+nRT\\frac{d}{d\\xi}\\sum_ix_i \\\\\n",
        "    =\\Delta G^0+RT\\sum_i\\ln(p_i/p^0)^{\\nu_i} \\tag{16}\n",
        "\\end{equation}\n",
        "At equilibrium:\n",
        "\\begin{equation}\n",
        "    \\frac{dG}{d\\xi}=0=\\Delta G^0+RT\\sum_i\\ln(p_{i,eq}/p^0)^{\\nu_i} \\\\\n",
        "    \\Delta G^0=-RT\\ln K_p^0\\tag{17}\n",
        "\\end{equation}\n",
        "which is the same result as that obtained above.\n"
      ],
      "metadata": {
        "id": "08SvnR_IMuTE"
      }
    },
    {
      "cell_type": "markdown",
      "source": [
        "### **Working with an example reaction $0→\\nu_iA_i$**"
      ],
      "metadata": {
        "id": "XjiHxA-Vcgam"
      }
    },
    {
      "cell_type": "code",
      "source": [
        "#@title Installation of packages. It takes $\\approx$ 1 min\n",
        "%%capture\n",
        "! sudo apt update\n",
        "! sudo apt install cm-super dvipng texlive-latex-extra texlive-latex-recommended\n",
        "! pip install --prefer-binary pyscf\n",
        "! pip install pyscf[geomopt]\n",
        "! pip install dftd3 dftd4\n",
        "! pip install pubchempy chempy\n",
        "! pip install --upgrade x3dase"
      ],
      "metadata": {
        "id": "WAvYvC7UV0Qd",
        "cellView": "form"
      },
      "execution_count": 1,
      "outputs": []
    },
    {
      "cell_type": "code",
      "source": [
        "import numpy as np\n",
        "import matplotlib.pyplot as plt\n",
        "# Defining some constants\n",
        "m_u    = 1.66053886e-27      # atomic mass constant in kg\n",
        "h      = 6.6260693e-34       # Planck's constant in J*s\n",
        "k_B    = 1.3806505e-23       # Boltzmann's constant in J/K\n",
        "c      = 2.99792558e8        # Speed of light in m/s\n",
        "bar2Pa = 1e5                 # 1 bar to N/m**2\n",
        "Pa2bar = 1e-5                # 1 Pa=N/m**2 to bar\n",
        "p0     = 1                   # standard pressure in bar\n",
        "R      = 8.314472e-3         # Gas constant in kJ/(K mol)\n",
        "H2kcal = 627.509             # Hartree to kcal/mol\n",
        "H2kJ   = 2625.5              # Hartree to kJ/mol\n",
        "Rbar   = 0.0831446618        # R in bar L / (mol K)\n",
        "\n",
        "\n",
        "# This is for A(0)-->2*A(1) but this cell should be modified to allow the user define the reaction conditions\n",
        "# pressure of 1 bar and T = 298.15 K\n",
        "p = 1\n",
        "T = 298.15\n",
        "#number of species\n",
        "#n_species = 3\n",
        "n_species = 2\n",
        "#nui is an array with the stochiometric coeffs\n",
        "nui = np.array([-1,2])\n",
        "#ni0 is an array with the initial number of moles\n",
        "ni0 = np.array([1,0])\n",
        "#mui0 are the standard chemical potentials of the species (kJ/mol)\n",
        "mui0 = np.array([0,2])\n",
        "#muistar is the chemical potential for the pure species = mui0+RTln(p/p0)\n",
        "muistar = mui0 + R * T * np.log(p/p0)\n",
        "deltaG0 = sum(nui * mui0)\n",
        "\n",
        "k_p = np.exp(-deltaG0/R/T)\n",
        "\n",
        "#max(ni0) has to be changed if a limiting reactant exists\n",
        "x = np.linspace(1e-10,max(ni0)-1e-10,num=10000)\n",
        "\n",
        "#ni_of_xi is a list of arrays\n",
        "ni = []\n",
        "xi = []\n",
        "n = sum(ni0) + sum(nui) * x\n",
        "\n",
        "for k,ele in enumerate(ni0):\n",
        "  xi.append((ni0[k] + x * nui[k]) / n)\n",
        "\n",
        "nia = np.array(ni)\n",
        "xia = np.array(xi)\n",
        "\n",
        "G_star = 1 / R / T * ( sum(ni0 * muistar) + x * sum(nui * muistar) )\n",
        "G_mix  = n * sum(xia*np.log(xia))\n",
        "G = G_star + G_mix\n",
        "y = np.zeros(x.size)\n",
        "x_eq = x[np.argmin(G)]\n",
        "n_eq = sum(ni0) + sum(nui) * x_eq\n",
        "\n",
        "print('EQUILIBRIUM PROPERTIES')\n",
        "print('Kp from stantard Gibbs energy of rxn = %5.3f' % k_p)\n",
        "print('Extent of rxn = %5.3f mol' % x_eq )\n",
        "for k,ele in enumerate(ni0):\n",
        "  print('Moles of A(%1.0f) = %5.3f mol' % (k,ele+x_eq * nui[k]))\n",
        "\n",
        "p_eq = []\n",
        "k_from_peq = 1\n",
        "for k,ele in enumerate(ni0):\n",
        "  p_eq.append((ele+x_eq * nui[k])/n_eq * p )\n",
        "  print('Partial pressure of A(%1.0f) = %5.3f bar' % (k,p_eq[k]))\n",
        "  k_from_peq *= p_eq[k] ** nui[k]\n",
        "print('kp from the partial pressures %5.3f' % k_from_peq)\n",
        "\n",
        "plt.rcParams['text.usetex'] = True\n",
        "plt.plot(x,G_star,'--',color='blue',label=r'$(G^*(0)+\\xi\\Delta G^*)/RT$')\n",
        "plt.plot(x,G_mix,'--',color='red',label=r'$\\Delta _{mix}G/RT$')\n",
        "plt.plot(x,G,'-',color='black',label=r'$G/RT$')\n",
        "plt.plot(x,y,':',color='black')\n",
        "plt.ylabel(r'$G/RT (\\mathrm{mol})$',fontsize=20)\n",
        "plt.xlabel(r'$\\xi (\\mathrm{mol})$',fontsize=20)\n",
        "plt.legend()\n",
        "plt.xlim(0,max(x))\n",
        "plt.xticks(fontsize=16)\n",
        "plt.yticks(fontsize=16)\n",
        "plt.tight_layout()\n",
        "plt.show()"
      ],
      "metadata": {
        "id": "_z-Uc5kPdOa7",
        "outputId": "06456531-fae8-4dfd-8e4b-bb42955eb44a",
        "colab": {
          "base_uri": "https://localhost:8080/",
          "height": 626
        }
      },
      "execution_count": 5,
      "outputs": [
        {
          "output_type": "stream",
          "name": "stdout",
          "text": [
            "EQUILIBRIUM PROPERTIES\n",
            "Kp from stantard Gibbs energy of rxn = 0.199\n",
            "Extent of rxn = 0.218 mol\n",
            "Moles of A(0) = 0.782 mol\n",
            "Moles of A(1) = 0.436 mol\n",
            "Partial pressure of A(0) = 0.642 bar\n",
            "Partial pressure of A(1) = 0.358 bar\n",
            "kp from the partial pressures 0.199\n"
          ]
        },
        {
          "output_type": "display_data",
          "data": {
            "text/plain": [
              "<Figure size 640x480 with 1 Axes>"
            ],
            "image/png": "[encoded data removed]"
          },
          "metadata": {}
        }
      ]
    },
    {
      "cell_type": "markdown",
      "source": [
        "# **Calculation of $K_p$ using thermochemistry and simulations: the $\\mathrm{N}_{2}\\mathrm{O}_{4} \\rightleftharpoons 2 \\mathrm{NO}_{2}$ reaction**"
      ],
      "metadata": {
        "id": "0RhbqVUOJl0M"
      }
    },
    {
      "cell_type": "code",
      "source": [
        "#@title Function to determine $\\mu^0$ based on a Python script from [AutoMeKin](https://github.com/emartineznunez/AutoMeKin)\n",
        "\n",
        "import numpy as np\n",
        "\n",
        "def G_m_0(temp,m,A,B,C,lin_A,nat_A,sigma,spin,*freq):\n",
        "  import math\n",
        "  q_t = (2*math.pi*m*m_u*k_B*temp/h/h)**1.5*k_B*temp/bar2Pa\n",
        "  St = R * np.log(q_t)\n",
        "  Ut = 1.5 * R * temp\n",
        "  q_r = 1 ; q_v = 1 ; Sr = 0 ; Sv = 0 ; Ur = 0 ; Uv = 0\n",
        "  if nat_A > 1:\n",
        "    rA  = h * c * 100 * A / k_B\n",
        "    rB  = h * c * 100 * B / k_B\n",
        "    rC  = h * c * 100 * C / k_B\n",
        "    if lin_A == 0:\n",
        "      q_r = 1 / sigma * math.sqrt(math.pi)*(temp**1.5/math.sqrt(rA*rB*rC))\n",
        "      Sr = R * (1.5 + np.log(q_r))\n",
        "      Ur = 1.5 * R * temp\n",
        "    else:\n",
        "      if rA == 0:\n",
        "        rl = math.sqrt(rB*rC)\n",
        "      elif rB == 0:\n",
        "        rl = math.sqrt(rA*rC)\n",
        "      else:\n",
        "        rl = math.sqrt(rA*rB)\n",
        "      q_r = 1 / sigma * temp / rl\n",
        "      Sr = R * (1 + np.log(q_r))\n",
        "      Ur = R * temp\n",
        "    for ele in freq:\n",
        "      rv   = h * c * 100 * float(ele) / k_B\n",
        "      q_v *= 1 / (1 - np.exp(-rv/temp))\n",
        "      Sv  += R * (rv / temp / (np.exp(rv/temp) - 1) - np.log(1 - np.exp(-rv/temp)) )\n",
        "      Uv += R * rv / (np.exp(rv/temp) - 1)\n",
        "  q_e = spin +1\n",
        "  q = q_t * q_r * q_v * q_e\n",
        "  return - R * temp * np.log(q)\n"
      ],
      "metadata": {
        "id": "V28H7EHmo4yy",
        "cellView": "form"
      },
      "execution_count": null,
      "outputs": []
    },
    {
      "cell_type": "markdown",
      "source": [
        "## **We now focus on the $\\mathrm{N}_{2}\\mathrm{O}_{4} \\rightleftharpoons 2 \\mathrm{NO}_{2}$ reaction**"
      ],
      "metadata": {
        "id": "NgPRkO1qB6ld"
      }
    },
    {
      "cell_type": "code",
      "source": [
        "#@title Using [Chempy](https://pypi.org/project/chempy/) to handle the $\\mathrm{N}_{2}\\mathrm{O}_{4} \\rightleftharpoons 2 \\mathrm{NO}_{2}$ reaction\n",
        "from operator import mul\n",
        "from functools import reduce\n",
        "from itertools import product\n",
        "import chempy\n",
        "from chempy import Substance\n",
        "from chempy.chemistry import Species, Equilibrium, Reaction\n",
        "from chempy.equilibria import EqSystem, NumSysLog, NumSysLin\n",
        "from chempy import balance_stoichiometry\n",
        "import numpy as np\n",
        "import sympy as sp\n",
        "sp.init_printing()\n",
        "import matplotlib.pyplot as plt\n",
        "\n",
        "temp = 298.15\n",
        "reactf='N2O4'\n",
        "prodf='NO2'\n",
        "spin=[]\n",
        "react = Substance.from_formula(reactf)\n",
        "prod  = Substance.from_formula(prodf)\n",
        "#print(\"Reactant:\",react.unicode_name)\n",
        "#print(\"Product :\",prod.unicode_name)\n",
        "spin_react=spin_prod=0\n",
        "for ele in react.composition.keys(): spin_react += ele * react.composition[ele]\n",
        "spin.append(spin_react % 2)\n",
        "for ele in prod.composition.keys(): spin_prod += ele * prod.composition[ele]\n",
        "spin.append(spin_prod % 2)\n",
        "print(\"Spin list:\",spin)\n",
        "\n",
        "reac, pr = balance_stoichiometry({reactf},{prodf})\n",
        "\n",
        "equilibrium = Equilibrium(reac, pr)\n",
        "\n",
        "keys = [reactf,prodf]\n",
        "\n",
        "subst = {k: Substance.from_formula(k) for k in keys}\n",
        "r_latex=equilibrium.latex(subst)\n",
        "r_unicode=equilibrium.unicode(subst)\n",
        "print(r_unicode)\n"
      ],
      "metadata": {
        "id": "nPuzoMqfsmrL"
      },
      "execution_count": null,
      "outputs": []
    },
    {
      "cell_type": "code",
      "source": [
        "#@title Retrieving structures of reactant and product from [PubChem](https://pubchem.ncbi.nlm.nih.gov/)\n",
        "import pubchempy as pcp\n",
        "\n",
        "keys1=['N2O4', 'nitrogen dioxide']\n",
        "#print(keys)\n",
        "#print(keys1)\n",
        "natom = []\n",
        "for k,ele in enumerate(keys1):\n",
        "  molA = ele\n",
        "  #molA = input('Name of your substance: ')\n",
        "  queryA0 = pcp.get_compounds(molA,'name')\n",
        "  queryA = pcp.get_compounds(molA,'name',record_type='3d')\n",
        "  if(len(queryA)==0): queryA = queryA0\n",
        "  cid_A = pcp.get_cids(molA)\n",
        "  if len(cid_A) == 0: print('Molecule not found')\n",
        "  else: print('CID of',Substance.from_formula(keys[k]).unicode_name,': ',cid_A)\n",
        "\n",
        "  m = queryA[0]\n",
        "  natom.append(len(m.atoms))\n",
        "  f = open(keys[k]+'.xyz','w')\n",
        "  if natom[k] > 1:\n",
        "    f.write(str(natom[k])+'\\n\\n')\n",
        "    for i,a in enumerate(m.atoms):\n",
        "      if a.z is None: a.z = 0.0\n",
        "      f.write(m.elements[i]+' '+str(a.x)+' '+str(a.y)+' '+str(a.z)+'\\n')\n",
        "  else:                            f.write(m.elements[0]+' 0. 0. 0.\\n')\n",
        "  f.close()"
      ],
      "metadata": {
        "cellView": "form",
        "id": "1TzNJDZU-FBp"
      },
      "execution_count": null,
      "outputs": []
    },
    {
      "cell_type": "code",
      "source": [
        "#@title ### Using [pyscf](https://pyscf.org) to optimize the structures at the PBE0-D4/6-31G level of theory. This takes a few minutes...\n",
        "%%capture\n",
        "from pyscf import gto, scf\n",
        "from pyscf.hessian import thermo\n",
        "from pyscf.geomopt.geometric_solver import optimize\n",
        "import dftd4.pyscf as disp4\n",
        "import os\n",
        "\n",
        "#os.environ['OMP_NUM_THREADS'] = \"8\"\n",
        "\n",
        "e0 = []\n",
        "A = []\n",
        "B = []\n",
        "C = []\n",
        "lin = []\n",
        "freq_info = []\n",
        "mass = []\n",
        "sigma = []\n",
        "mol_eq = []\n",
        "\n",
        "functional ='pbe0'\n",
        "for k,ele in enumerate(keys):\n",
        "  mol = gto.M(atom = ele+\".xyz\",spin=spin[k],basis='6-31g')\n",
        "  if spin[k] == 0: mf = mol.RKS(xc=functional)\n",
        "  else: mf = mol.UKS(xc=functional)\n",
        "# optimization\n",
        "  mol_eq.append(optimize(mf, maxsteps=100))\n",
        "\n",
        "  if spin[k] == 0: mf = mol_eq[k].RKS(xc=functional).run()\n",
        "  else: mf = mol_eq[k].UKS(xc=functional).run()\n",
        "\n",
        "  hessian = mf.Hessian().kernel()\n",
        "\n",
        "  freq_info.append(thermo.harmonic_analysis(mf.mol, hessian))\n",
        "  thermo_info = thermo.thermo(mf, freq_info[k]['freq_au'], temp, 101325)\n",
        "  mass.append(mol.atom_mass_list(isotope_avg=True))\n",
        "  rot_info = thermo.rotation_const(mass[k],mol_eq[k].atom_coords())\n",
        "  sigma.append(thermo.rotational_symmetry_number(mol_eq[k]))\n",
        "\n",
        "  A.append(rot_info[0] * 0.033357)\n",
        "  B.append(rot_info[1] * 0.033357)\n",
        "  C.append(rot_info[2] * 0.033357)\n",
        "  if A[k] == B[k] and C[k] <= 0.001: lin.append(1)\n",
        "  else: lin.append(0)\n",
        "\n",
        "  d4 = disp4.DFTD4Dispersion(mol_eq[k],xc=functional)\n",
        "  e0.append(thermo_info['E0'][0] + d4.kernel()[0] + thermo_info['ZPE'][0])\n"
      ],
      "metadata": {
        "id": "d0qXYOgvKDX7",
        "cellView": "form"
      },
      "execution_count": null,
      "outputs": []
    },
    {
      "cell_type": "code",
      "source": [
        "#@title Computing $G_m^0$, _aka_ the standard chemical potential $\\mu^0$\n",
        "from x3dase.visualize import view_x3d_n\n",
        "from ase.io import read\n",
        "import IPython\n",
        "\n",
        "gcorr = []\n",
        "g = []\n",
        "\n",
        "for k,ele in enumerate(keys):\n",
        "  gcorr.append(G_m_0(temp,sum(mass[k]),A[k],B[k],C[k],lin[k],natom[k],sigma[k],spin[k],*freq_info[k]['freq_wavenumber']))\n",
        "  g.append( e0[k] * H2kJ + gcorr[k] )\n",
        "  print('Frequencies of',Substance.from_formula(ele).unicode_name,'(cm^-1)')\n",
        "  for ifreq in freq_info[k]['freq_wavenumber']:\n",
        "    print('%10.0f' % ifreq)\n",
        "  gto.tofile(mol_eq[k],str(keys[k])+'_opt.xyz')\n",
        "  print(\"\")\n",
        "\n",
        "\n",
        "deltaG = (2 * g[1] - g[0])\n",
        "\n",
        "print('deltaG: %3.2f kJ/mol' % deltaG)\n",
        "\n",
        "# Results (D4 dispersion):\n",
        "# b3lyp/6-31g*     --> 11.20 kJ/mol\n",
        "# b3lyp/def2svp    --> 15.48 kJ/mol\n",
        "# pbe0/6-31g       -->  4.52 kJ/mol   *************\n",
        "#Tabulated value --> 4.7 kJ/mol"
      ],
      "metadata": {
        "id": "qPu9M85opD6O"
      },
      "execution_count": null,
      "outputs": []
    },
    {
      "cell_type": "code",
      "source": [
        "#@title Visualization of the reactant\n",
        "atoms = read(str(keys[0])+'_opt.xyz')\n",
        "view_x3d_n(atoms,output=str(keys[0])+'_opt.html', bond=1.0, label=True)\n",
        "IPython.display.HTML(filename=str(keys[0])+'_opt.html')"
      ],
      "metadata": {
        "cellView": "form",
        "id": "XPsTOc6BGQbb"
      },
      "execution_count": null,
      "outputs": []
    },
    {
      "cell_type": "code",
      "source": [
        "#@title Visualization of the product\n",
        "atoms = read(str(keys[1])+'_opt.xyz')\n",
        "view_x3d_n(atoms,output=str(keys[1])+'_opt.html', bond=1.0, label=True)\n",
        "IPython.display.HTML(filename=str(keys[1])+'_opt.html')"
      ],
      "metadata": {
        "cellView": "form",
        "id": "aFChWu2XGR1U"
      },
      "execution_count": null,
      "outputs": []
    },
    {
      "cell_type": "markdown",
      "source": [
        "### **KMC simulation**"
      ],
      "metadata": {
        "id": "sDxGumPlNohb"
      }
    },
    {
      "cell_type": "code",
      "source": [
        "#@title Installing KMC code (taken from AutoMeKin package)\n",
        "%%capture\n",
        "%cd /opt\n",
        "! curl -LJO https://raw.githubusercontent.com/emartineznunez/Kp/main/src/kmc.f90\n",
        "! gfortran -o kmc.exe kmc.f90\n",
        "%cd /content\n",
        "! curl -LJO https://raw.githubusercontent.com/emartineznunez/Kp/main/data/N2O4.dat\n",
        "%env PATH=\"/content:.:/opt:/usr/local/nvidia/bin:/usr/local/cuda/bin:/usr/local/sbin:/usr/local/bin:/usr/sbin:/usr/bin:/sbin:/bin:/tools/node/bin:/tools/google-cloud-sdk/bin\""
      ],
      "metadata": {
        "cellView": "form",
        "id": "ZEu4t6imMINc"
      },
      "execution_count": null,
      "outputs": []
    },
    {
      "cell_type": "code",
      "source": [
        "#@title Running the calculation\n",
        "!kmc.exe<N2O4.dat>N2O4.out"
      ],
      "metadata": {
        "cellView": "form",
        "id": "fbt2M_M-MmPP"
      },
      "execution_count": null,
      "outputs": []
    }
  ]
}