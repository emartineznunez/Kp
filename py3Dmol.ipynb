{
  "nbformat": 4,
  "nbformat_minor": 0,
  "metadata": {
    "colab": {
      "provenance": []
    },
    "kernelspec": {
      "name": "python3",
      "display_name": "Python 3"
    },
    "language_info": {
      "name": "python"
    }
  },
  "cells": [
    {
      "cell_type": "code",
      "execution_count": 1,
      "metadata": {
        "colab": {
          "base_uri": "https://localhost:8080/"
        },
        "id": "BBzjuoqbAzsk",
        "outputId": "faa2d393-3126-425b-c414-b270d19e0ea1"
      },
      "outputs": [
        {
          "output_type": "stream",
          "name": "stdout",
          "text": [
            "Collecting py3Dmol\n",
            "  Downloading py3dmol-2.5.0-py2.py3-none-any.whl.metadata (2.1 kB)\n",
            "Downloading py3dmol-2.5.0-py2.py3-none-any.whl (7.2 kB)\n",
            "Installing collected packages: py3Dmol\n",
            "Successfully installed py3Dmol-2.5.0\n"
          ]
        }
      ],
      "source": [
        "! pip install py3Dmol"
      ]
    },
    {
      "cell_type": "code",
      "source": [
        "import py3Dmol\n",
        "\n",
        "view = py3Dmol.view(width=500, height=500)\n",
        "view.addModel(open('ts_HSCN.xyz', 'r').read(), 'xyz')\n",
        "view.setStyle({'stick':{'singleBonds' : 'False'},'sphere': {'scale': 0.3}})\n",
        "view.show()\n"
      ],
      "metadata": {
        "colab": {
          "base_uri": "https://localhost:8080/",
          "height": 517
        },
        "id": "wodp1L2FBLLj",
        "outputId": "2d13de28-8221-45b0-8f26-5ff7e7d54d20"
      },
      "execution_count": 48,
      "outputs": [
        {
          "output_type": "display_data",
          "data": {
            "application/3dmoljs_load.v0": "<div id=\"3dmolviewer_17503198262439792\"  style=\"position: relative; width: 500px; height: 500px;\">\n        <p id=\"3dmolwarning_17503198262439792\" style=\"background-color:#ffcccc;color:black\">3Dmol.js failed to load for some reason.  Please check your browser console for error messages.<br></p>\n        </div>\n<script>\n\nvar loadScriptAsync = function(uri){\n  return new Promise((resolve, reject) => {\n    //this is to ignore the existence of requirejs amd\n    var savedexports, savedmodule;\n    if (typeof exports !== 'undefined') savedexports = exports;\n    else exports = {}\n    if (typeof module !== 'undefined') savedmodule = module;\n    else module = {}\n\n    var tag = document.createElement('script');\n    tag.src = uri;\n    tag.async = true;\n    tag.onload = () => {\n        exports = savedexports;\n        module = savedmodule;\n        resolve();\n    };\n  var firstScriptTag = document.getElementsByTagName('script')[0];\n  firstScriptTag.parentNode.insertBefore(tag, firstScriptTag);\n});\n};\n\nif(typeof $3Dmolpromise === 'undefined') {\n$3Dmolpromise = null;\n  $3Dmolpromise = loadScriptAsync('https://cdn.jsdelivr.net/npm/3dmol@2.5.0/build/3Dmol-min.js');\n}\n\nvar viewer_17503198262439792 = null;\nvar warn = document.getElementById(\"3dmolwarning_17503198262439792\");\nif(warn) {\n    warn.parentNode.removeChild(warn);\n}\n$3Dmolpromise.then(function() {\nviewer_17503198262439792 = $3Dmol.createViewer(document.getElementById(\"3dmolviewer_17503198262439792\"),{backgroundColor:\"white\"});\nviewer_17503198262439792.zoomTo();\n\tviewer_17503198262439792.addModel(\"5\\nCoordinates from ORCA-job ts\\n  C   0.78690531814481     -0.24250989590168     -0.31440732034144\\n  N   1.92236730192955     -0.37134729167066     -0.09185999176660\\n  S   -0.88573567996779      0.14652919067740     -0.63920439616163\\n  H   -1.33765594878658     -0.92409145732662      0.02034374689205\\n  H   -2.43835299131999      0.92278545422156     -0.17985003862237\\n\",\"xyz\");\n\tviewer_17503198262439792.setStyle({\"stick\": {\"singleBonds\": \"False\"}, \"sphere\": {\"scale\": 0.3}});\nviewer_17503198262439792.render();\n});\n</script>",
            "text/html": [
              "<div id=\"3dmolviewer_17503198262439792\"  style=\"position: relative; width: 500px; height: 500px;\">\n",
              "        <p id=\"3dmolwarning_17503198262439792\" style=\"background-color:#ffcccc;color:black\">3Dmol.js failed to load for some reason.  Please check your browser console for error messages.<br></p>\n",
              "        </div>\n",
              "<script>\n",
              "\n",
              "var loadScriptAsync = function(uri){\n",
              "  return new Promise((resolve, reject) => {\n",
              "    //this is to ignore the existence of requirejs amd\n",
              "    var savedexports, savedmodule;\n",
              "    if (typeof exports !== 'undefined') savedexports = exports;\n",
              "    else exports = {}\n",
              "    if (typeof module !== 'undefined') savedmodule = module;\n",
              "    else module = {}\n",
              "\n",
              "    var tag = document.createElement('script');\n",
              "    tag.src = uri;\n",
              "    tag.async = true;\n",
              "    tag.onload = () => {\n",
              "        exports = savedexports;\n",
              "        module = savedmodule;\n",
              "        resolve();\n",
              "    };\n",
              "  var firstScriptTag = document.getElementsByTagName('script')[0];\n",
              "  firstScriptTag.parentNode.insertBefore(tag, firstScriptTag);\n",
              "});\n",
              "};\n",
              "\n",
              "if(typeof $3Dmolpromise === 'undefined') {\n",
              "$3Dmolpromise = null;\n",
              "  $3Dmolpromise = loadScriptAsync('https://cdn.jsdelivr.net/npm/3dmol@2.5.0/build/3Dmol-min.js');\n",
              "}\n",
              "\n",
              "var viewer_17503198262439792 = null;\n",
              "var warn = document.getElementById(\"3dmolwarning_17503198262439792\");\n",
              "if(warn) {\n",
              "    warn.parentNode.removeChild(warn);\n",
              "}\n",
              "$3Dmolpromise.then(function() {\n",
              "viewer_17503198262439792 = $3Dmol.createViewer(document.getElementById(\"3dmolviewer_17503198262439792\"),{backgroundColor:\"white\"});\n",
              "viewer_17503198262439792.zoomTo();\n",
              "\tviewer_17503198262439792.addModel(\"5\\nCoordinates from ORCA-job ts\\n  C   0.78690531814481     -0.24250989590168     -0.31440732034144\\n  N   1.92236730192955     -0.37134729167066     -0.09185999176660\\n  S   -0.88573567996779      0.14652919067740     -0.63920439616163\\n  H   -1.33765594878658     -0.92409145732662      0.02034374689205\\n  H   -2.43835299131999      0.92278545422156     -0.17985003862237\\n\",\"xyz\");\n",
              "\tviewer_17503198262439792.setStyle({\"stick\": {\"singleBonds\": \"False\"}, \"sphere\": {\"scale\": 0.3}});\n",
              "viewer_17503198262439792.render();\n",
              "});\n",
              "</script>"
            ]
          },
          "metadata": {}
        }
      ]
    }
  ]
}